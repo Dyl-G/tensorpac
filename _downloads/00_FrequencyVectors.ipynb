{
  "nbformat_minor": 0,
  "nbformat": 4,
  "metadata": {
    "language_info": {
      "version": "3.5.1",
      "codemirror_mode": {
        "version": 3,
        "name": "ipython"
      },
      "name": "python",
      "pygments_lexer": "ipython3",
      "nbconvert_exporter": "python",
      "mimetype": "text/x-python",
      "file_extension": ".py"
    },
    "kernelspec": {
      "display_name": "Python 3",
      "name": "python3",
      "language": "python"
    }
  },
  "cells": [
    {
      "outputs": [],
      "source": [
        "%matplotlib inline"
      ],
      "metadata": {
        "collapsed": false
      },
      "execution_count": null,
      "cell_type": "code"
    },
    {
      "source": [
        "\n# Define frequency vectors\n\n\nIn Tensorpac, you can define your phase and amplitude vectors in sevral ways :\n\n* Manually define one band (ex : [2, 4])\n* Define multiple bands using a list/tuple/array (ex : [[2, 4], [5, 7]])\n* Using a (start, stop width step) definition. The latter lets you create regulary spaced bands [[start, start+width], [start+step, start+step+width],\n                       [start+2*step, start+2*step+width], ...]\n* Using a range : np.arange(1, 6) => [[1, 2], [2, 3], [3, 4], [4, 5]]\n\n"
      ],
      "metadata": {},
      "cell_type": "markdown"
    },
    {
      "outputs": [],
      "source": [
        "import matplotlib.pyplot as plt\nimport numpy as np\nfrom tensorpac.utils import pac_vec\n\n\ndef plot(nb, pvec, avec, title):\n    \"\"\"Plotting function.\"\"\"\n    plt.subplot(1, 4, nb)\n    x, y = np.ones((pvec.shape[0],)), np.ones((avec.shape[0],))\n    plt.plot(pvec.mean(1), x, 'o', color='red', linewidth=2)\n    plt.plot(y, avec.mean(1), 'o', color='blue', linewidth=2)\n    plt.xlabel('Frequency for phase (hz')\n    plt.ylabel('Frequency for amplitude.mean(1)')\n    plt.title(title)\n\n\n# 1 - Manual defintion :\nfpha = [2, 4]\nfamp = [60, 160]\npvec1, avec1 = pac_vec(fpha, famp)\nplot(1, pvec1, avec1, '1 - One frequency band')\n\n# 2 - List/tuple/array :\nfpha = [[2, 4], [5, 7], [8, 13]]\nfamp = ([60, 160], [60, 200])\npvec2, avec2 = pac_vec(fpha, famp)\nplot(2, pvec2, avec2, 'Manually define several frequency bands')\n\n# 3 - (start, end, width, step) :\nfpha = (1, 30, 2, 1)\nfamp = (60, 200, 10, 5)\npvec3, avec3 = pac_vec(fpha, famp)\nplot(3, pvec3, avec3, 'Use the (start, stop, width, step definition')\n\n# 4 - Range :\nfpha = np.arange(1, 20)\nfamp = np.arange(60, 200, 10)\npvec4, avec4 = pac_vec(fpha, famp)\nplot(4, pvec4, avec4, 'Using a range definition')\n\nplt.show()"
      ],
      "metadata": {
        "collapsed": false
      },
      "execution_count": null,
      "cell_type": "code"
    }
  ]
}