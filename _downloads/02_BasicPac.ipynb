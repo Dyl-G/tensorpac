{
  "cells": [
    {
      "cell_type": "code",
      "outputs": [],
      "execution_count": null,
      "metadata": {
        "collapsed": false
      },
      "source": [
        "%matplotlib inline"
      ]
    },
    {
      "cell_type": "markdown",
      "source": [
        "\n# Compute basic phase amplitude coupling\n\n\nFor the visualization, we used a comodulogram.\n\n"
      ],
      "metadata": {}
    },
    {
      "cell_type": "code",
      "outputs": [],
      "execution_count": null,
      "metadata": {
        "collapsed": false
      },
      "source": [
        "import matplotlib.pyplot as plt\nfrom tensorpac.utils import pac_signals\nfrom tensorpac import Pac\nplt.style.use('seaborn-paper')\n\n# First, we generate a dataset of signals artificially coupled between 10hz\n# and 100hz. By default, this dataset is organized as (ndatasets, npts) where\n# npts is the number of time points.\nn = 50  # number of datasets\nnpts = 3000  # number of time points\ndata, time = pac_signals(fpha=10, famp=100, noise=3., ndatasets=n, npts=npts,\n                         dpha=10, damp=5, chi=.8)\n\n# First, let's use the MVL, without any further correction by surrogates :\np = Pac(idpac=(1, 0, 0), fpha=(2, 30, 2, 1), famp=(60, 150, 10, 5))\nxpac, _ = p.filterfit(1024, data, data, axis=1)\nt1 = p.method + '\\n' + p.surro + '\\n' + p.norm\n\n# Now, we still use the MVL method, but in addition we shuffle amplitude time\n# series and then, subtract then divide by the mean of surrogates :\np.idpac = (1, 1, 1)\nxpac_corr, _ = p.filterfit(1024, data, data, axis=1, nperm=10)\nt2 = p.method + '\\n' + p.surro + '\\n' + p.norm\n# sphinx_gallery_thumbnail_number = 2\n# Now, we plot the result by taking the mean across the dataset dimension.\nplt.subplot(1, 2, 1)\np.comodulogram(xpac.mean(-1), title=t1)\n\nplt.subplot(1, 2, 2)\np.comodulogram(xpac_corr.mean(-1), title=t2)\nplt.show()"
      ]
    }
  ],
  "metadata": {
    "language_info": {
      "mimetype": "text/x-python",
      "file_extension": ".py",
      "pygments_lexer": "ipython3",
      "name": "python",
      "codemirror_mode": {
        "version": 3,
        "name": "ipython"
      },
      "nbconvert_exporter": "python",
      "version": "3.5.1"
    },
    "kernelspec": {
      "display_name": "Python 3",
      "language": "python",
      "name": "python3"
    }
  },
  "nbformat": 4,
  "nbformat_minor": 0
}