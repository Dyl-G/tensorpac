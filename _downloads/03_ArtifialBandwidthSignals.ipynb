{
  "nbformat": 4,
  "metadata": {
    "language_info": {
      "name": "python",
      "mimetype": "text/x-python",
      "codemirror_mode": {
        "name": "ipython",
        "version": 3
      },
      "nbconvert_exporter": "python",
      "version": "3.5.1",
      "pygments_lexer": "ipython3",
      "file_extension": ".py"
    },
    "kernelspec": {
      "name": "python3",
      "language": "python",
      "display_name": "Python 3"
    }
  },
  "nbformat_minor": 0,
  "cells": [
    {
      "source": [
        "%matplotlib inline"
      ],
      "metadata": {
        "collapsed": false
      },
      "cell_type": "code",
      "outputs": [],
      "execution_count": null
    },
    {
      "metadata": {},
      "cell_type": "markdown",
      "source": [
        "\n# Generate a coupling between specific bands\n\n\nAlternativerly, you can create coupling not between centered frequences, but\nbetween frequency bands. In this example, we illustrate a [5, 7]<->[60, 80]hz\ncoupling.\n\n"
      ]
    },
    {
      "source": [
        "import numpy as np\nimport matplotlib.pyplot as plt\n\nfrom tensorpac.utils import pac_signals\nfrom tensorpac import Pac\n\ndata, time = pac_signals(fpha=[5, 7], famp=[60, 80], chi=0.5, ndatasets=50,\n                         noise=3., npts=2000)\n\n\np = Pac(idpac=(3, 1, 1), fpha=(1, 15, 1, .2), famp=(40, 100, 5, 2),\n        dcomplex='wavelet', width=6)\npac = np.squeeze(p.filterfit(1024, data, data, axis=1, nperm=10)[0])\n\np.comodulogram(pac.mean(-1), vmin=0., title=str(p))\nplt.show()"
      ],
      "metadata": {
        "collapsed": false
      },
      "cell_type": "code",
      "outputs": [],
      "execution_count": null
    }
  ]
}