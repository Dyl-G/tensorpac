{
  "nbformat_minor": 0,
  "nbformat": 4,
  "metadata": {
    "language_info": {
      "version": "3.5.1",
      "codemirror_mode": {
        "version": 3,
        "name": "ipython"
      },
      "name": "python",
      "pygments_lexer": "ipython3",
      "nbconvert_exporter": "python",
      "mimetype": "text/x-python",
      "file_extension": ".py"
    },
    "kernelspec": {
      "display_name": "Python 3",
      "name": "python3",
      "language": "python"
    }
  },
  "cells": [
    {
      "outputs": [],
      "source": [
        "%matplotlib inline"
      ],
      "metadata": {
        "collapsed": false
      },
      "execution_count": null,
      "cell_type": "code"
    },
    {
      "source": [
        "\n# Filtering properties and effect\n\n\nTensorpac provides two ways for extracting phase and amplitude :\n\n* Using filtering followed by Hilbert transform.\n* Using wavelets.\n\n"
      ],
      "metadata": {},
      "cell_type": "markdown"
    },
    {
      "outputs": [],
      "source": [
        "import matplotlib.pyplot as plt\nfrom tensorpac.utils import pac_signals\nfrom tensorpac import Pac\nplt.style.use('seaborn-paper')\n\n# First, we generate a dataset of signals artificially coupled between 10hz\n# and 100hz. By default, this dataset is organized as (ndatasets, npts) where\n# npts is the number of time points.\nn = 10  # number of datasets\nnpts = 3000  # number of time points\ndata, time = pac_signals(fpha=10, famp=100, noise=0, ndatasets=n, npts=npts)\n\n# First, let's use the MVL, without any further correction by surrogates :\np = Pac(idpac=(1, 0, 0), fpha=(5, 20, 2, 1), famp=(70, 130, 5, 5))\n\n# Use several filter-order for the Butterworth filter :\np.filt = 'butter'\nfor i, k in enumerate([1, 3, 6]):\n    p.filtorder = k\n    xpac, _ = p.filterfit(1024, data, data, axis=1)\n    plt.subplot(3, 3, i + 1)\n    p.comodulogram(xpac.mean(-1), title='Butterworth - order ' + str(k))\n\n# Define several cycle options for the fir1 (eegfilt like) filter :\np.filt = 'fir1'\nfor i, k in enumerate([(3, 3), (3, 6), (6, 12)]):\n    p.cycle = k\n    xpac, _ = p.filterfit(1024, data, data, axis=1)\n    plt.subplot(3, 3, i + 4)\n    p.comodulogram(xpac.mean(-1), title='Fir1 - cycle ' + str(k))\n\n# Define several wavelet width :\np.dcomplex = 'wavelet'\nfor i, k in enumerate([7, 12, 24]):\n    p.width = k\n    xpac, _ = p.filterfit(1024, data, data, axis=1)\n    plt.subplot(3, 3, i + 7)\n    p.comodulogram(xpac.mean(-1), title='Wavelet - width ' + str(k))\n\nplt.show()"
      ],
      "metadata": {
        "collapsed": false
      },
      "execution_count": null,
      "cell_type": "code"
    }
  ]
}