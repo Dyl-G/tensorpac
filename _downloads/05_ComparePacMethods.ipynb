{
  "nbformat_minor": 0,
  "nbformat": 4,
  "metadata": {
    "language_info": {
      "codemirror_mode": {
        "name": "ipython",
        "version": 3
      },
      "file_extension": ".py",
      "version": "3.5.1",
      "name": "python",
      "mimetype": "text/x-python",
      "nbconvert_exporter": "python",
      "pygments_lexer": "ipython3"
    },
    "kernelspec": {
      "language": "python",
      "name": "python3",
      "display_name": "Python 3"
    }
  },
  "cells": [
    {
      "cell_type": "code",
      "execution_count": null,
      "outputs": [],
      "metadata": {
        "collapsed": false
      },
      "source": [
        "%matplotlib inline"
      ]
    },
    {
      "cell_type": "markdown",
      "metadata": {},
      "source": [
        "\n# PAC methods comparison\n\n\nNote that this script do not perform any correction by surrogates.\n\n"
      ]
    },
    {
      "cell_type": "code",
      "execution_count": null,
      "outputs": [],
      "metadata": {
        "collapsed": false
      },
      "source": [
        "from __future__ import print_function\nimport matplotlib.pyplot as plt\nfrom tensorpac.utils import pac_signals\nfrom tensorpac import Pac\nplt.style.use('seaborn-paper')\n\n# First, we generate a dataset of signals artificially coupled between 10hz\n# and 100hz. By default, this dataset is organized as (ndatasets, npts) where\n# npts is the number of time points.\nn = 10  # number of datasets\nsf = 1024  # sampling frequency\nnpts = 3000  # Number of time points\ndata, time = pac_signals(sf=sf, fpha=10, famp=100, noise=3, ndatasets=n,\n                         dpha=10, damp=10, npts=npts)\n\n# First, let's use the MVL, without any further correction by surrogates :\np = Pac(fpha=(1, 30, 1, 1), famp=(60, 160, 5, 5), dcomplex='wavelet', width=12)\n\n# Now, we want to compare PAC methods, hence it's useless to systematically\n# filter the data. So we extract the phase and the amplitude only once :\nphases = p.filter(sf, data, axis=1, ftype='phase')\namplitudes = p.filter(sf, data, axis=1, ftype='amplitude')\n\nfor i, k in enumerate([1, 2, 3, 4, 5]):\n    # Change the pac method :\n    p.idpac = (k, 0, 0)\n    print('-> PAC using ' + str(p))\n    # Compute only the PAC without filtering :\n    xpac, _ = p.fit(phases, amplitudes, axis=2)\n    # Plot :\n    plt.subplot(3, 2, k)\n    p.comodulogram(xpac.mean(-1), title=p.method, cmap='Spectral_r')\n\nplt.show()"
      ]
    }
  ]
}