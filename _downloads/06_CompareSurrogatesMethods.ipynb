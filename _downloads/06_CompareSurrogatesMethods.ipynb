{
  "nbformat_minor": 0,
  "nbformat": 4,
  "metadata": {
    "language_info": {
      "version": "3.5.1",
      "codemirror_mode": {
        "version": 3,
        "name": "ipython"
      },
      "name": "python",
      "pygments_lexer": "ipython3",
      "nbconvert_exporter": "python",
      "mimetype": "text/x-python",
      "file_extension": ".py"
    },
    "kernelspec": {
      "display_name": "Python 3",
      "name": "python3",
      "language": "python"
    }
  },
  "cells": [
    {
      "outputs": [],
      "source": [
        "%matplotlib inline"
      ],
      "metadata": {
        "collapsed": false
      },
      "execution_count": null,
      "cell_type": "code"
    },
    {
      "source": [
        "\n# Compararison of several surrogate evaluation methods\n\n\nSurrogates are used to generate a chance ditribution in order to correct the\nPAC estimation.\n\n"
      ],
      "metadata": {},
      "cell_type": "markdown"
    },
    {
      "outputs": [],
      "source": [
        "from __future__ import print_function\nimport matplotlib.pyplot as plt\nfrom tensorpac.utils import pac_signals\nfrom tensorpac import Pac\nplt.style.use('seaborn-paper')\n\n# First, we generate a delta <-> low-gamma coupling. By default, this dataset\n#  is organized as (ndatasets, npts) where npts is the number of time points.\nn = 100  # number of datasets\nsf = 200.  # sampling frequency\nnpts = 4000  # number of time points\ndata, time = pac_signals(sf=sf, fpha=[5, 7], famp=[60, 80], noise=3,\n                         ndatasets=n, npts=npts, chi=.9)\n\n# First, let's use the MVL, without any further correction by surrogates :\np = Pac(fpha=(1, 10, 1, 1), famp=(50, 120, 5, 2), dcomplex='wavelet')\n\n# Now, we want to compare PAC methods, hence it's useless to systematically\n# filter the data. So we extract the phase and the amplitude only once :\nphases = p.filter(sf, data, axis=1, ftype='phase')\namplitudes = p.filter(sf, data, axis=1, ftype='amplitude')\n\nfor i, k in enumerate(range(5)):\n    # Change the pac method :\n    p.idpac = (1, k, 3)\n    print('-> Surrogates using ' + p.surro)\n    # Compute only the PAC without filtering :\n    xpac, _ = p.fit(phases, amplitudes, axis=2, nperm=20)\n    # Plot :\n    plt.subplot(3, 3, k + 1)\n    p.comodulogram(xpac.mean(-1), title=p.surro, cmap='Spectral_r')\n\nplt.show()"
      ],
      "metadata": {
        "collapsed": false
      },
      "execution_count": null,
      "cell_type": "code"
    }
  ]
}