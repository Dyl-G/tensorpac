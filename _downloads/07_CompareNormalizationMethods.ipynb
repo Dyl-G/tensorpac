{
  "nbformat_minor": 0,
  "nbformat": 4,
  "metadata": {
    "language_info": {
      "version": "3.5.1",
      "codemirror_mode": {
        "version": 3,
        "name": "ipython"
      },
      "name": "python",
      "pygments_lexer": "ipython3",
      "nbconvert_exporter": "python",
      "mimetype": "text/x-python",
      "file_extension": ".py"
    },
    "kernelspec": {
      "display_name": "Python 3",
      "name": "python3",
      "language": "python"
    }
  },
  "cells": [
    {
      "outputs": [],
      "source": [
        "%matplotlib inline"
      ],
      "metadata": {
        "collapsed": false
      },
      "execution_count": null,
      "cell_type": "code"
    },
    {
      "source": [
        "\n# Compare the several normalization methods\n\n\nThe normalization correspond on the method used to correct the PAC estimation\nwith the chance distribution.\n\n"
      ],
      "metadata": {},
      "cell_type": "markdown"
    },
    {
      "outputs": [],
      "source": [
        "from __future__ import print_function\nimport matplotlib.pyplot as plt\nfrom tensorpac.utils import pac_signals\nfrom tensorpac import Pac\nplt.style.use('seaborn-paper')\n\n# First, we generate a dataset of signals artificially coupled between 10hz\n# and 100hz. By default, this dataset is organized as (ndatasets, npts) where\n# npts is the number of time points.\nn = 30  # number of datasets\nsf = 1024  # sampling frequency\ndata, time = pac_signals(sf=sf, fpha=10, famp=100, noise=3, ndatasets=n,\n                         dpha=10, damp=10, npts=2000)\n\n# First, let's use the MVL, without any further correction by surrogates :\np = Pac(fpha=(1, 30, 1, 1), famp=(60, 160, 5, 5), dcomplex='wavelet', width=12)\n\n# Now, we want to compare PAC methods, hence it's useless to systematically\n# filter the data. So we extract the phase and the amplitude only once :\nphases = p.filter(sf, data, axis=1, ftype='phase')\namplitudes = p.filter(sf, data, axis=1, ftype='amplitude')\n\nfor i, k in enumerate(range(5)):\n    # Change the pac method :\n    p.idpac = (1, 3, k)\n    print('-> Normalization using ' + p.norm)\n    # Compute only the PAC without filtering :\n    xpac, _ = p.fit(phases, amplitudes, axis=2, nperm=50)\n    # Plot :\n    plt.subplot(3, 2, k + 1)\n    p.comodulogram(xpac.mean(-1), title=p.norm, cmap='Spectral_r')\n\nplt.show()"
      ],
      "metadata": {
        "collapsed": false
      },
      "execution_count": null,
      "cell_type": "code"
    }
  ]
}