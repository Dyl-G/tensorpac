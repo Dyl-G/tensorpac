{
  "nbformat_minor": 0,
  "nbformat": 4,
  "metadata": {
    "language_info": {
      "version": "3.5.1",
      "codemirror_mode": {
        "version": 3,
        "name": "ipython"
      },
      "name": "python",
      "pygments_lexer": "ipython3",
      "nbconvert_exporter": "python",
      "mimetype": "text/x-python",
      "file_extension": ".py"
    },
    "kernelspec": {
      "display_name": "Python 3",
      "name": "python3",
      "language": "python"
    }
  },
  "cells": [
    {
      "outputs": [],
      "source": [
        "%matplotlib inline"
      ],
      "metadata": {
        "collapsed": false
      },
      "execution_count": null,
      "cell_type": "code"
    },
    {
      "source": [
        "\n# Compute p-values\n\n\nFor the visualization, we used a comodulogram.\n\n"
      ],
      "metadata": {},
      "cell_type": "markdown"
    },
    {
      "outputs": [],
      "source": [
        "import matplotlib.pyplot as plt\nfrom tensorpac.utils import pac_signals\nfrom tensorpac import Pac\nplt.style.use('seaborn-poster')\n\n# First, we generate a dataset of signals artificially coupled between 10hz\n# and 100hz. By default, this dataset is organized as (ndatasets, npts) where\n# npts is the number of time points.\nn = 1      # number of datasets\nsf = 256.  # sampling frequency\ndata, time = pac_signals(fpha=6, famp=90, noise=2, ndatasets=n,\n                         chi=.5, npts=5000, sf=sf)\n\n# First, let's use the MVL, without any further correction by surrogates :\np = Pac(idpac=(1, 2, 1), fpha=(2, 15, 2, .1), famp=(60, 120, 10, 1),\n        dcomplex='wavelet')\nxpac, pval = p.filterfit(sf, data, data, axis=1, nperm=100)\nt1 = p.method + '\\n' + p.surro + '\\n' + p.norm\n\np.comodulogram(xpac[..., 0], title=t1, cmap='Spectral_r', vmin=0.,\n               bad='orange', pvalues=pval[..., 0], p=0.05)\n\nplt.show()"
      ],
      "metadata": {
        "collapsed": false
      },
      "execution_count": null,
      "cell_type": "code"
    }
  ]
}