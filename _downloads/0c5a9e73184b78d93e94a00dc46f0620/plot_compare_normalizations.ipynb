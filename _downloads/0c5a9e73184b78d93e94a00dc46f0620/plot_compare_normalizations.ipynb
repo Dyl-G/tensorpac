{
  "cells": [
    {
      "cell_type": "code",
      "execution_count": null,
      "metadata": {
        "collapsed": false
      },
      "outputs": [],
      "source": [
        "%matplotlib inline"
      ]
    },
    {
      "cell_type": "markdown",
      "metadata": {},
      "source": [
        "\n# Compare normalization types\n\n\nThis example illustrates the effect of the different implemented\nnormalizations. First, the true PAC is estimated, then this is the surrogate\ndistribution that is estimated (i.e the PAC that could be obtained by chance).\nFinally, the true PAC is corrected by this distribution. Tensorpac includes\nfour types of normalization that should give similar results :\n\n    * Substract the mean of surrogates (1)\n    * Divide by the mean of surrogates (2)\n    * Substract then divide by the mean of surrogates (3)\n    * Substract the mean then divide by the deviation of surrogates\n      (z-score, 4)\n\n"
      ]
    },
    {
      "cell_type": "code",
      "execution_count": null,
      "metadata": {
        "collapsed": false
      },
      "outputs": [],
      "source": [
        "from textwrap import wrap\n\nfrom tensorpac import Pac\nfrom tensorpac.signals import pac_signals_wavelet\n\nimport matplotlib.pyplot as plt"
      ]
    },
    {
      "cell_type": "markdown",
      "metadata": {},
      "source": [
        "Simulate artificial coupling\n##############################################################################\n first, we generate several trials that contains a coupling between a 10z\n phase and a 100hz amplitude. By default, the returned dataset is organized as\n (n_epochs, n_times) where n_times is the number of time points and n_epochs\n is the number of trials\n\n"
      ]
    },
    {
      "cell_type": "code",
      "execution_count": null,
      "metadata": {
        "collapsed": false
      },
      "outputs": [],
      "source": [
        "f_pha = 10      # frequency phase for the coupling\nf_amp = 100     # frequency amplitude for the coupling\nn_epochs = 20   # number of trials\nn_times = 2000  # number of time points\nsf = 512.       # sampling frequency\ndata, time = pac_signals_wavelet(f_pha=f_pha, f_amp=f_amp, noise=2.,\n                                 n_epochs=n_epochs, n_times=n_times, sf=sf)"
      ]
    },
    {
      "cell_type": "markdown",
      "metadata": {},
      "source": [
        "Extract phases and amplitudes\n##############################################################################\n now we can extract all of the phases and amplitudes\n\n"
      ]
    },
    {
      "cell_type": "code",
      "execution_count": null,
      "metadata": {
        "collapsed": false
      },
      "outputs": [],
      "source": [
        "# define the pac object\np = Pac(f_pha='mres', f_amp='mres')\n# Now, we want to compare PAC methods, hence it's useless to systematically\n# filter the data. So we extract the phase and the amplitude only once\nphases = p.filter(sf, data, ftype='phase', n_jobs=1)\namplitudes = p.filter(sf, data, ftype='amplitude', n_jobs=1)"
      ]
    },
    {
      "cell_type": "markdown",
      "metadata": {},
      "source": [
        "Recompute PAC and surrogates and switch the normalization types\n##############################################################################\n finally, we can recompute PAC and surrogates and then switch the\n normalization type. In particular this script uses the Gaussian-Copula PAC\n as the main measure and then permutes times blocks of amplitudes cut at a\n random time point\n\n"
      ]
    },
    {
      "cell_type": "code",
      "execution_count": null,
      "metadata": {
        "collapsed": false
      },
      "outputs": [],
      "source": [
        "plt.figure(figsize=(14, 8))\nfor i, k in enumerate(range(5)):\n    # switch the normalization method\n    p.idpac = (6, 2, k)\n    print('-> Normalization using ' + p.str_norm)\n    # compute pac and surrogates (n_perm)\n    xpac = p.fit(phases, amplitudes, n_perm=20)\n    # plot\n    plt.subplot(2, 3, k + 1)\n    title = '\\n'.join(wrap(f\"{p.str_norm} ({k})\", 40))\n    p.comodulogram(xpac.mean(-1), title=title, cmap='plasma', vmin=0.)\n\nplt.tight_layout()\nplt.show()"
      ]
    }
  ],
  "metadata": {
    "kernelspec": {
      "display_name": "Python 3",
      "language": "python",
      "name": "python3"
    },
    "language_info": {
      "codemirror_mode": {
        "name": "ipython",
        "version": 3
      },
      "file_extension": ".py",
      "mimetype": "text/x-python",
      "name": "python",
      "nbconvert_exporter": "python",
      "pygments_lexer": "ipython3",
      "version": "3.6.10"
    }
  },
  "nbformat": 4,
  "nbformat_minor": 0
}