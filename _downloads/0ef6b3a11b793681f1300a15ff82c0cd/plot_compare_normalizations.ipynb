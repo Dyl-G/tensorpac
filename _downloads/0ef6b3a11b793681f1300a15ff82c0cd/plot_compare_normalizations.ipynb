{
  "cells": [
    {
      "cell_type": "code",
      "execution_count": null,
      "metadata": {
        "collapsed": false
      },
      "outputs": [],
      "source": [
        "%matplotlib inline"
      ]
    },
    {
      "cell_type": "markdown",
      "metadata": {},
      "source": [
        "\n# Compare normalizations\n\n\nThe normalization correspond on the method used to correct the PAC estimation\nwith the chance distribution.\n\n"
      ]
    },
    {
      "cell_type": "code",
      "execution_count": null,
      "metadata": {
        "collapsed": false
      },
      "outputs": [],
      "source": [
        "from __future__ import print_function\nimport matplotlib.pyplot as plt\nfrom tensorpac.utils import pac_signals_wavelet\nfrom tensorpac import Pac\nplt.style.use('seaborn-paper')\n\n# First, we generate a dataset of signals artificially coupled between 10hz\n# and 100hz. By default, this dataset is organized as (ntrials, npts) where\n# npts is the number of time points.\nn = 3  # number of datasets\nsf = 512.  # sampling frequency\ndata, time = pac_signals_wavelet(sf=sf, fpha=10, famp=100, noise=1., ntrials=n,\n                                 npts=2000)\n\n# First, let's use the MVL, without any further correction by surrogates :\np = Pac(fpha=(5, 16, 1, .1), famp=(80, 130, 5, 2), dcomplex='wavelet',\n        width=12)\n\n# Now, we want to compare PAC methods, hence it's useless to systematically\n# filter the data. So we extract the phase and the amplitude only once :\nphases = p.filter(sf, data, axis=1, ftype='phase')\namplitudes = p.filter(sf, data, axis=1, ftype='amplitude')\n\nplt.figure(figsize=(18, 9))\nfor i, k in enumerate(range(5)):\n    # Change the pac method :\n    p.idpac = (1, 4, k)\n    print('-> Normalization using ' + p.norm)\n    # Compute only the PAC without filtering :\n    xpac = p.fit(phases, amplitudes, axis=2, nperm=100)\n    # Plot :\n    plt.subplot(2, 3, k + 1)\n    p.comodulogram(xpac.mean(-1), title=p.norm, cmap='Spectral_r')\n\nplt.show()"
      ]
    }
  ],
  "metadata": {
    "kernelspec": {
      "display_name": "Python 3",
      "language": "python",
      "name": "python3"
    },
    "language_info": {
      "codemirror_mode": {
        "name": "ipython",
        "version": 3
      },
      "file_extension": ".py",
      "mimetype": "text/x-python",
      "name": "python",
      "nbconvert_exporter": "python",
      "pygments_lexer": "ipython3",
      "version": "3.7.1"
    }
  },
  "nbformat": 4,
  "nbformat_minor": 0
}