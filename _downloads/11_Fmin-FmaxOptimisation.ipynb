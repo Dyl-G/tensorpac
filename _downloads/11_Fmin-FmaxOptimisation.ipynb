{
  "nbformat": 4,
  "metadata": {
    "language_info": {
      "name": "python",
      "mimetype": "text/x-python",
      "codemirror_mode": {
        "name": "ipython",
        "version": 3
      },
      "nbconvert_exporter": "python",
      "version": "3.5.1",
      "pygments_lexer": "ipython3",
      "file_extension": ".py"
    },
    "kernelspec": {
      "name": "python3",
      "language": "python",
      "display_name": "Python 3"
    }
  },
  "nbformat_minor": 0,
  "cells": [
    {
      "source": [
        "%matplotlib inline"
      ],
      "metadata": {
        "collapsed": false
      },
      "cell_type": "code",
      "outputs": [],
      "execution_count": null
    },
    {
      "metadata": {},
      "cell_type": "markdown",
      "source": [
        "\n# Find the optimal bandwidth\n\n\nInstead of looking for phase and amplitude frequency pairs (as in a\ncomodulogram) this example illustrate how it is possible to find starting,\nending and therefore, bandwith coupling.\n\n"
      ]
    },
    {
      "source": [
        "import matplotlib.pyplot as plt\n\nfrom tensorpac import Pac, pac_trivec, pac_signals\n\nplt.rc('text', usetex=True)\nplt.rc('font', family='serif')\n\nsf = 256.\ndata, time = pac_signals(fpha=[5, 7], famp=[60, 100], noise=2, ndatasets=30,\n                         npts=6000, sf=sf, dpha=10)\n\ntrif, tridx = pac_trivec(fstart=30, fend=160, fwidth=5)\n\np = Pac(idpac=(1, 0, 0), fpha=[5, 7], famp=trif)\npac, _ = p.filterfit(sf, data, data, axis=1)\n\np.triplot(pac.mean(-1), trif, tridx, cmap='Spectral_r', rmaxis=True,\n          title=r'Optimal $[Fmin; Fmax]$hz band for amplitude')\n# plt.savefig('triplot.png', dpi=600, bbox_inches='tight')\np.show()"
      ],
      "metadata": {
        "collapsed": false
      },
      "cell_type": "code",
      "outputs": [],
      "execution_count": null
    }
  ]
}