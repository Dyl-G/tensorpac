{
  "nbformat": 4,
  "cells": [
    {
      "source": [
        "%matplotlib inline"
      ],
      "cell_type": "code",
      "execution_count": null,
      "metadata": {
        "collapsed": false
      },
      "outputs": []
    },
    {
      "source": [
        "\n=============================\nFind the preferred phase (PP)\n=============================\n\nFirst, the amplitude is binned according to phase slices (360 degrees/nbins).\nThen, the PP is defined as the phase where the amplitude is maximum.\n\n"
      ],
      "cell_type": "markdown",
      "metadata": {}
    },
    {
      "source": [
        "import numpy as np\nimport matplotlib.pyplot as plt\nfrom tensorpac import pac_signals, Pac\n\nplt.style.use('seaborn-poster')\n\n# Generate 100 datasets with a [5, 7]<->[90, 100]hz coupling :\nsf = 1024.\nndatasets = 100\ndata, time = pac_signals(fpha=[5, 7], famp=[95, 105], ndatasets=ndatasets,\n                         sf=sf, noise=3, chi=.7, npts=2000)\n\n\n# Define a Pac object. Here, we are not going to use the idpac variable :\np = Pac(fpha=[5, 7], famp=(60, 200, 10, 1))\n\n# Extract the phase and the amplitude :\npha = p.filter(sf, data, axis=1, ftype='phase')\namp = p.filter(sf, data, axis=1, ftype='amplitude')\n\n# Introduce a 2*pi/2 phase shift (equivalent to adding a 90\u00b0 shift) :\npha += np.pi / 2\n\n# Now, compute the PP :\nambin, pp, vecbin = p.pp(pha, amp, axis=2, nbins=72)\n\n# Reshape the PP to be (ndatasets, namp) :\npp = np.squeeze(pp).T\n\n# Reshape the amplitude to be (nbins, namp, ndatasets) and take the mean across\n# datasets :\nambin = np.squeeze(ambin).mean(-1)\n\n# plt.figure(figsize=(20, 35))\n# Plot the prefered phase :\nplt.subplot(221)\nplt.pcolormesh(p.yvec, np.arange(100), np.rad2deg(pp), cmap='Spectral_r')\ncb = plt.colorbar()\nplt.clim(vmin=-180., vmax=180.)\nplt.axis('tight')\nplt.xlabel('Amplitude center frequency (Hz)')\nplt.ylabel('Ndatasets')\nplt.title(\"PP for each dataset and for several amplitudes.\\n100hz amplitudes\"\n          \" are phase locked to 90\u00b0 (<=> pi/2)\")\ncb.set_label('PP (in degrees)')\n\n# Then, we show  the histogram corresponding to an 100he amplitude :\nidx100 = np.abs(p.yvec - 100.).argmin()\nplt.subplot(222)\nh = plt.hist(pp[:, idx100], color='#ab4642')\nplt.xlim((-np.pi, np.pi))\nplt.xlabel('PP')\nplt.title('PP across trials for the 100hz amplitude')\nplt.xticks([-np.pi, -np.pi / 2, 0, np.pi / 2, np.pi])\nplt.gca().set_xticklabels([r\"$-\\pi$\", r\"$-\\frac{\\pi}{2}$\", \"$0$\",\n                          r\"$\\frac{\\pi}{2}$\", r\"$\\pi$\"])\n\np.polar(ambin.T, vecbin, p.yvec, cmap='Spectral_r', interp=.1, subplot=212,\n        cblabel='Amplitude bins')\n\n# plt.savefig('pp.png', dpi=300, bbox_inches='tight')\n\np.show()"
      ],
      "cell_type": "code",
      "execution_count": null,
      "metadata": {
        "collapsed": false
      },
      "outputs": []
    }
  ],
  "metadata": {
    "language_info": {
      "mimetype": "text/x-python",
      "pygments_lexer": "ipython3",
      "nbconvert_exporter": "python",
      "codemirror_mode": {
        "name": "ipython",
        "version": 3
      },
      "name": "python",
      "file_extension": ".py",
      "version": "3.5.1"
    },
    "kernelspec": {
      "name": "python3",
      "language": "python",
      "display_name": "Python 3"
    }
  },
  "nbformat_minor": 0
}