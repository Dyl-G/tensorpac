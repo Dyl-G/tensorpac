{
  "cells": [
    {
      "cell_type": "code",
      "execution_count": null,
      "metadata": {
        "collapsed": false
      },
      "outputs": [],
      "source": [
        "%matplotlib inline"
      ]
    },
    {
      "cell_type": "markdown",
      "metadata": {},
      "source": [
        "\n# Compute p-values\n\n\nFor the visualization, we used a comodulogram.\n\n"
      ]
    },
    {
      "cell_type": "code",
      "execution_count": null,
      "metadata": {
        "collapsed": false
      },
      "outputs": [],
      "source": [
        "from tensorpac import Pac\nfrom tensorpac.signals import pac_signals_wavelet\n\nimport matplotlib.pyplot as plt\nplt.style.use('seaborn-poster')\n\n# First, we generate a dataset of signals artificially coupled between 10hz\n# and 100hz. By default, this dataset is organized as (n_epochs, n_times) where\n# n_times is the number of time points.\nn_epochs = 1      # number of datasets\nsf = 512.  # sampling frequency\ndata, time = pac_signals_wavelet(f_pha=6, f_amp=90, noise=.8,\n                                 n_epochs=n_epochs, n_times=4000, sf=sf)\n\n\n# First, let's use the MVL, without any further correction by surrogates :\np = Pac(idpac=(1, 2, 0), f_pha=(2, 15, 2, .2), f_amp=(60, 120, 10, 1))\nxpac = p.filterfit(sf, data, n_perm=200, p=.05)\npval = p.pvalues\n\np.comodulogram(xpac.mean(-1), title=str(p), cmap='Spectral_r', vmin=0.,\n               pvalues=pval, levels=.05)\n\np.show()"
      ]
    }
  ],
  "metadata": {
    "kernelspec": {
      "display_name": "Python 3",
      "language": "python",
      "name": "python3"
    },
    "language_info": {
      "codemirror_mode": {
        "name": "ipython",
        "version": 3
      },
      "file_extension": ".py",
      "mimetype": "text/x-python",
      "name": "python",
      "nbconvert_exporter": "python",
      "pygments_lexer": "ipython3",
      "version": "3.6.9"
    }
  },
  "nbformat": 4,
  "nbformat_minor": 0
}