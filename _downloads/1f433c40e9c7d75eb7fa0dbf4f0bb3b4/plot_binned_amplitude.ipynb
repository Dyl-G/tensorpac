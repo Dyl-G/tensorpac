{
  "cells": [
    {
      "cell_type": "code",
      "execution_count": null,
      "metadata": {
        "collapsed": false
      },
      "outputs": [],
      "source": [
        "%matplotlib inline"
      ]
    },
    {
      "cell_type": "markdown",
      "metadata": {},
      "source": [
        "\n# Bin amplitude according to the phase\n\n\nThis example illustrate how to bin the amplitude according to the phase.\n\n"
      ]
    },
    {
      "cell_type": "code",
      "execution_count": null,
      "metadata": {
        "collapsed": false
      },
      "outputs": [],
      "source": [
        "from tensorpac.signals import pac_signals_tort\nfrom tensorpac.utils import BinAmplitude\n\nimport matplotlib.pyplot as plt\n\n# Dataset of signals artificially coupled between 10hz and 100hz :\nn_epochs = 20\nn_times = 4000\nsf = 512.  # sampling frequency\n\n# Create artificially coupled signals using Tort method :\ndata, time = pac_signals_tort(f_pha=10, f_amp=100, noise=2, n_epochs=n_epochs,\n                              dpha=10, damp=10, sf=sf, n_times=n_times)\n\nplt.figure(figsize=(14, 5))\n\nplt.subplot(121)\nb_obj = BinAmplitude(data, sf, f_pha=[9, 11], f_amp=[90, 110], n_jobs=1,\n                     n_bins=18)\nax = b_obj.plot(color='red', alpha=.5, unit='deg')\nplt.ylim(0, 180)\nplt.title(\"Binned amplitude (phase=[9, 11])\")\n\nplt.subplot(122)\nb_obj = BinAmplitude(data, sf, f_pha=[2, 4], f_amp=[90, 110], n_jobs=1,\n                     n_bins=18)\nax = b_obj.plot(color='blue', alpha=.5, unit='deg')\nplt.ylim(0, 180)\nplt.title(\"Binned amplitude (phase=[2, 4])\")\n\nb_obj.show()"
      ]
    }
  ],
  "metadata": {
    "kernelspec": {
      "display_name": "Python 3",
      "language": "python",
      "name": "python3"
    },
    "language_info": {
      "codemirror_mode": {
        "name": "ipython",
        "version": 3
      },
      "file_extension": ".py",
      "mimetype": "text/x-python",
      "name": "python",
      "nbconvert_exporter": "python",
      "pygments_lexer": "ipython3",
      "version": "3.6.9"
    }
  },
  "nbformat": 4,
  "nbformat_minor": 0
}