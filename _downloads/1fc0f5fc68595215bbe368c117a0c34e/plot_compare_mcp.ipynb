{
  "cells": [
    {
      "cell_type": "code",
      "execution_count": null,
      "metadata": {
        "collapsed": false
      },
      "outputs": [],
      "source": [
        "%matplotlib inline"
      ]
    },
    {
      "cell_type": "markdown",
      "metadata": {},
      "source": [
        "\n# Comparison of methods for correcting p-values for multiple comparisons\n\n\nThis script illustrates three methods to correct the p-values for multiple\ncomparisons (i.e by the number of phases and by the number of amplitudes) :\n\n    * Using the maximum statistics\n    * Using a FDR correction\n    * Using a Bonferroni correction\n\nNote that for the FDR and Bonferroni corrections, MNE-Python is needed.\n\n"
      ]
    },
    {
      "cell_type": "code",
      "execution_count": null,
      "metadata": {
        "collapsed": false
      },
      "outputs": [],
      "source": [
        "import numpy as np\n\nfrom tensorpac import Pac\nfrom tensorpac.signals import pac_signals_wavelet\n\nimport matplotlib.pyplot as plt"
      ]
    },
    {
      "cell_type": "markdown",
      "metadata": {},
      "source": [
        "Simulate artificial coupling\n##############################################################################\n first, we generate several trials that contains a coupling between a 6z phase\n and a 90hz amplitude. By default, the returned dataset is organized as\n (n_epochs, n_times) where n_times is the number of time points and n_epochs\n is the number of trials\n\n"
      ]
    },
    {
      "cell_type": "code",
      "execution_count": null,
      "metadata": {
        "collapsed": false
      },
      "outputs": [],
      "source": [
        "f_pha = 6       # frequency phase for the coupling\nf_amp = 90      # frequency amplitude for the coupling\nn_epochs = 30   # number of trials\nn_times = 4000  # number of time points\nsf = 512.       # sampling frequency\ndata, time = pac_signals_wavelet(f_pha=f_pha, f_amp=f_amp, noise=.4,\n                                 n_epochs=n_epochs, n_times=n_times, sf=sf)"
      ]
    },
    {
      "cell_type": "markdown",
      "metadata": {},
      "source": [
        "Compute true PAC estimation and surrogates distribution\n##############################################################################\n Now, we compute the PAC using multiple phases and amplitudes such as the\n distribution of surrogates. In this example, we used the method proposed by\n Tort et al. 2010 :cite:`tort2010measuring`. This method consists in swapping\n phase and amplitude trials. Then, we used the method\n :class:`tensorpac.Pac.infer_pvalues` in order to get the corrected p-values\n across all possible (phase, amplitude) frequency pairs.\n\n"
      ]
    },
    {
      "cell_type": "code",
      "execution_count": null,
      "metadata": {
        "collapsed": false
      },
      "outputs": [],
      "source": [
        "# define the Pac object\np = Pac(idpac=(1, 1, 0), f_pha='mres', f_amp='mres')\n# compute true pac and surrogates\nn_perm = 200  # number of permutations\nxpac = p.filterfit(sf, data, n_perm=n_perm, n_jobs=-1).squeeze()\n\nplt.figure(figsize=(16, 5))\nfor n_mcp, mcp in enumerate(['maxstat', 'fdr', 'bonferroni']):\n    # get the corrected p-values\n    pval = p.infer_pvalues(p=0.05, mcp=mcp)\n    # set to gray non significant p-values and in color significant values\n    pac_ns = xpac.copy()\n    pac_ns[pval <= .05] = np.nan\n    pac_s = xpac.copy()\n    pac_s[pval > .05] = np.nan\n\n    plt.subplot(1, 3, n_mcp + 1)\n    p.comodulogram(pac_ns, cmap='gray', colorbar=False, vmin=np.nanmin(pac_ns),\n                   vmax=np.nanmax(pac_ns))\n    p.comodulogram(pac_s, title=f'MCP={mcp}', cmap='viridis',\n                   vmin=np.nanmin(pac_s), vmax=np.nanmax(pac_s))\n    plt.gca().invert_yaxis()\n\nplt.tight_layout()\np.show()"
      ]
    }
  ],
  "metadata": {
    "kernelspec": {
      "display_name": "Python 3",
      "language": "python",
      "name": "python3"
    },
    "language_info": {
      "codemirror_mode": {
        "name": "ipython",
        "version": 3
      },
      "file_extension": ".py",
      "mimetype": "text/x-python",
      "name": "python",
      "nbconvert_exporter": "python",
      "pygments_lexer": "ipython3",
      "version": "3.6.10"
    }
  },
  "nbformat": 4,
  "nbformat_minor": 0
}