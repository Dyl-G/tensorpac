{
  "cells": [
    {
      "cell_type": "code",
      "execution_count": null,
      "metadata": {
        "collapsed": false
      },
      "outputs": [],
      "source": [
        "%matplotlib inline"
      ]
    },
    {
      "cell_type": "markdown",
      "metadata": {},
      "source": [
        "\n# Basic phase amplitude coupling\n\n\nFor the visualization, we used a comodulogram.\n\n"
      ]
    },
    {
      "cell_type": "code",
      "execution_count": null,
      "metadata": {
        "collapsed": false
      },
      "outputs": [],
      "source": [
        "import matplotlib.pyplot as plt\nfrom tensorpac.utils import pac_signals_tort\nfrom tensorpac import Pac\nplt.style.use('seaborn-poster')\n\n# First, we generate a dataset of signals artificially coupled between 10hz\n# and 100hz. By default, this dataset is organized as (n_trials, n_times) where\n# n_times is the number of time points.\nn_epochs = 10  # number of datasets\nn_times = 4000  # number of time points\nsf = 512.\ndata, time = pac_signals_tort(f_pha=10, f_amp=100, noise=3., n_epochs=n_epochs,\n                              n_times=n_times, dpha=10, damp=5, chi=.8, sf=sf)\n\n# First, let's use the MVL, without any further correction by surrogates :\np = Pac(idpac=(1, 0, 0), f_pha=(2, 30, 1, .5), f_amp=(60, 150, 10, 1))\n\n# extract phases and amplitudes\nphases = p.filter(sf, data, ftype='phase')\namplitudes = p.filter(sf, data, ftype='amplitude')\n\n# compute pac without permutations\nxpac = p.fit(phases, amplitudes)\nt1 = p.method + '\\n' + p.str_surro + '\\n' + p.str_norm\n\n# Now, we still use the MVL method, but in addition we shuffle amplitude time\n# series and then, subtract then divide by the mean of surrogates :\np.idpac = (1, 1, 3)\nxpac_corr = p.fit(phases, amplitudes, n_perm=20)\nt2 = p.method + '\\n' + p.str_surro + '\\n' + p.str_norm\n\n# plot the result by taking the mean across trials\nplt.figure(figsize=(20, 7))\nplt.subplot(1, 2, 1)\np.comodulogram(xpac.mean(-1), title=t1)\n\nplt.subplot(1, 2, 2)\np.comodulogram(xpac_corr.mean(-1), title=t2)\nplt.show()"
      ]
    }
  ],
  "metadata": {
    "kernelspec": {
      "display_name": "Python 3",
      "language": "python",
      "name": "python3"
    },
    "language_info": {
      "codemirror_mode": {
        "name": "ipython",
        "version": 3
      },
      "file_extension": ".py",
      "mimetype": "text/x-python",
      "name": "python",
      "nbconvert_exporter": "python",
      "pygments_lexer": "ipython3",
      "version": "3.6.8"
    }
  },
  "nbformat": 4,
  "nbformat_minor": 0
}