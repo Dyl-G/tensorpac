{
  "cells": [
    {
      "cell_type": "code",
      "execution_count": null,
      "metadata": {
        "collapsed": false
      },
      "outputs": [],
      "source": [
        "%matplotlib inline"
      ]
    },
    {
      "cell_type": "markdown",
      "metadata": {},
      "source": [
        "\n# Long-range PAC\n\n\nOne thing you may have noticed, both the fit() and filterfit() methods take as\ninputs data and again data. The reason is that the first data refer to the\nsignal to extract the phase (xpha) and the second, the amplitude (xamp).\nIf you want to extract local coupling (i.e. on a source/electrode) both xpha\nand xamp have to be set to data.\n\n"
      ]
    },
    {
      "cell_type": "code",
      "execution_count": null,
      "metadata": {
        "collapsed": false
      },
      "outputs": [],
      "source": [
        "from tensorpac import Pac\nfrom tensorpac.signals import pac_signals_tort\n\nimport matplotlib.pyplot as plt\nplt.style.use('seaborn-poster')\n\n# First, we generate 2 datasets of signals artificially coupled between 10hz\n# and 100hz. By default, those datasets are organized as (n_epochs, n_times)\n# where n_times is the number of time points.\nn_epochs = 20  # number of datasets\nd1, time = pac_signals_tort(f_pha=10, f_amp=100, noise=1, n_epochs=n_epochs,\n                            n_times=3000)\nd2, time = pac_signals_tort(f_pha=10, f_amp=100, noise=3, n_epochs=n_epochs,\n                            dpha=20, damp=5, chi=.3, n_times=3000)\n\n# Define the model of PAC to use :\np = Pac(idpac=(4, 0, 0), f_pha=(2, 30, 1, 1), f_amp=(60, 150, 5, 5),\n        dcomplex='wavelet', width=12)\n# Now, compute PAC by taking the phase of the first dataset and the amplitude\n# of the second\nxpac12 = p.filterfit(1024, d1, d2)\n# Invert by taking the phase of the second dataset and the amplitude of the\n#  first one :\nxpac21 = p.filterfit(1024, d2, d1)\n\n# Plot signals and PAC :\nplt.figure(figsize=(18, 12))\nplt.subplot(2, 2, 1)\nplt.plot(time, d1.mean(0), color='k')\nplt.xlabel('Time')\nplt.ylabel('Amplitude [uV]')\nplt.title('Mean across trials of the first dataset')\nplt.axis('tight')\n\nplt.subplot(2, 2, 2)\nplt.plot(time, d2.mean(0), color='k')\nplt.xlabel('Time')\nplt.ylabel('Amplitude [uV]')\nplt.title('Mean across trials of the second dataset')\nplt.axis('tight')\n\nplt.subplot(2, 2, 3)\np.comodulogram(xpac12.mean(-1), title=\"Phase of the first dataset and \"\n               \"amplitude of the second\", cmap='Reds')\n\nplt.subplot(2, 2, 4)\np.comodulogram(xpac21.mean(-1), title=\"Phase of the second dataset and \"\n               \"amplitde of the second\", cmap='Reds')\nplt.show()"
      ]
    }
  ],
  "metadata": {
    "kernelspec": {
      "display_name": "Python 3",
      "language": "python",
      "name": "python3"
    },
    "language_info": {
      "codemirror_mode": {
        "name": "ipython",
        "version": 3
      },
      "file_extension": ".py",
      "mimetype": "text/x-python",
      "name": "python",
      "nbconvert_exporter": "python",
      "pygments_lexer": "ipython3",
      "version": "3.6.12"
    }
  },
  "nbformat": 4,
  "nbformat_minor": 0
}