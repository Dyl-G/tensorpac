{
  "cells": [
    {
      "cell_type": "code",
      "execution_count": null,
      "metadata": {
        "collapsed": false
      },
      "outputs": [],
      "source": [
        "%matplotlib inline"
      ]
    },
    {
      "cell_type": "markdown",
      "metadata": {},
      "source": [
        "\n# Define frequency vectors\n\n\nIn Tensorpac, you can define your phase and amplitude vectors in sevral ways :\n\n* Manually define one band (ex : [2, 4])\n* Define multiple bands using a list/tuple/array (ex : [[2, 4], [5, 7]])\n* Using a (start, stop width step) definition. The latter lets you create regulary spaced bands [[start, start+width], [start+step, start+step+width],\n                       [start+2*step, start+2*step+width], ...]\n* Using a range : np.arange(1, 6) => [[1, 2], [2, 3], [3, 4], [4, 5]]\n\n"
      ]
    },
    {
      "cell_type": "code",
      "execution_count": null,
      "metadata": {
        "collapsed": false
      },
      "outputs": [],
      "source": [
        "import matplotlib.pyplot as plt\nimport numpy as np\nfrom tensorpac.utils import pac_vec\n\n\ndef plot(nb, pvec, avec, title):\n    \"\"\"Plotting function.\"\"\"\n    pvecm = pvec.mean(1)\n    avecm = avec.mean(1)\n    plt.subplot(1, 4, nb)\n    plt.vlines(pvecm, -10, 500, color='#ab4642')\n    plt.hlines(avecm, -10, 500, color='slateblue')\n    plt.xlabel('Frequency for phase (hz')\n    plt.ylabel('Frequency for amplitude.mean(1)')\n    plt.title(title)\n    plt.xlim([0, 30])\n    plt.ylim([60, 200])\n\n\nplt.figure(figsize=(25, 5))\n# 1 - Manual defintion :\nfpha = [2, 4]\nfamp = [60, 160]\npvec1, avec1 = pac_vec(fpha, famp)\nplot(1, pvec1, avec1, '1 - One frequency band')\n\n# 2 - List/tuple/array :\nfpha = [[2, 4], [5, 7], [8, 13]]\nfamp = ([60, 160], [60, 200])\npvec2, avec2 = pac_vec(fpha, famp)\nplot(2, pvec2, avec2, 'Manually define several frequency bands')\n\n# 3 - (start, end, width, step) :\nfpha = (1, 30, 2, 1)\nfamp = (60, 200, 10, 5)\npvec3, avec3 = pac_vec(fpha, famp)\nplot(3, pvec3, avec3, 'Use the (start, stop, width, step definition')\n\n# 4 - Range :\nfpha = np.arange(1, 20)\nfamp = np.arange(60, 200, 10)\npvec4, avec4 = pac_vec(fpha, famp)\nplot(4, pvec4, avec4, 'Using a range definition')\n\nplt.show()"
      ]
    }
  ],
  "metadata": {
    "kernelspec": {
      "display_name": "Python 3",
      "language": "python",
      "name": "python3"
    },
    "language_info": {
      "codemirror_mode": {
        "name": "ipython",
        "version": 3
      },
      "file_extension": ".py",
      "mimetype": "text/x-python",
      "name": "python",
      "nbconvert_exporter": "python",
      "pygments_lexer": "ipython3",
      "version": "3.6.12"
    }
  },
  "nbformat": 4,
  "nbformat_minor": 0
}