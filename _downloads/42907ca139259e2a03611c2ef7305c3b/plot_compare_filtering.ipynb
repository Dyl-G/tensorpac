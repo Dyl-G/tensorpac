{
  "cells": [
    {
      "cell_type": "code",
      "execution_count": null,
      "metadata": {
        "collapsed": false
      },
      "outputs": [],
      "source": [
        "%matplotlib inline"
      ]
    },
    {
      "cell_type": "markdown",
      "metadata": {},
      "source": [
        "\n# Compare filtering properties\n\n\nTensorpac provides two ways for extracting phase and amplitude :\n\n* Using filtering followed by Hilbert transform.\n* Using wavelets.\n\n"
      ]
    },
    {
      "cell_type": "code",
      "execution_count": null,
      "metadata": {
        "collapsed": false
      },
      "outputs": [],
      "source": [
        "from __future__ import print_function\nimport matplotlib.pyplot as plt\nfrom tensorpac import Pac\nfrom tensorpac.signals import pac_signals_wavelet\nplt.style.use('seaborn-paper')\n\n# First, we generate a dataset of signals artificially coupled between 10hz\n# and 100hz. By default, this dataset is organized as (ntrials, n_times) where\n# n_times is the number of time points.\nn_epochs = 5         # number of datasets\nn_times = 4000  # number of time points\ndata, time = pac_signals_wavelet(f_pha=10, f_amp=100, noise=1.,\n                                 n_epochs=n_epochs, n_times=n_times)\n\n# First, let's use the MVL, without any further correction by surrogates :\np = Pac(idpac=(4, 0, 0), f_pha=(5, 14, 2, .3), f_amp=(80, 120, 2, 1),\n        verbose=False)\n\nplt.figure(figsize=(18, 9))\n# Define several cycle options for the fir1 (eegfilt like) filter :\nprint('Filtering with fir1 filter')\nfor i, k in enumerate([(1, 3), (2, 4), (3, 6)]):\n    p.cycle = k\n    xpac = p.filterfit(1024, data, n_jobs=1)\n    plt.subplot(2, 3, i + 1)\n    p.comodulogram(xpac.mean(-1), title='Fir1 - cycle ' + str(k))\n\n# Define several wavelet width :\np.dcomplex = 'wavelet'\nprint('Filtering with wavelets')\nfor i, k in enumerate([7, 9, 12]):\n    p.width = k\n    xpac = p.filterfit(1024, data)\n    plt.subplot(2, 3, i + 4)\n    p.comodulogram(xpac.mean(-1), title='Wavelet - width ' + str(k))\n\nplt.show()"
      ]
    }
  ],
  "metadata": {
    "kernelspec": {
      "display_name": "Python 3",
      "language": "python",
      "name": "python3"
    },
    "language_info": {
      "codemirror_mode": {
        "name": "ipython",
        "version": 3
      },
      "file_extension": ".py",
      "mimetype": "text/x-python",
      "name": "python",
      "nbconvert_exporter": "python",
      "pygments_lexer": "ipython3",
      "version": "3.6.10"
    }
  },
  "nbformat": 4,
  "nbformat_minor": 0
}