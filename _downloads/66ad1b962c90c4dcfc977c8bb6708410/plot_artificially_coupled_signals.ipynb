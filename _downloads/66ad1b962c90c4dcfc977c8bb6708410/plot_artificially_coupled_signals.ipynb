{
  "cells": [
    {
      "cell_type": "code",
      "execution_count": null,
      "metadata": {
        "collapsed": false
      },
      "outputs": [],
      "source": [
        "%matplotlib inline"
      ]
    },
    {
      "cell_type": "markdown",
      "metadata": {},
      "source": [
        "\n# Generate artificially coupled signals\n\n\nUse the pac_signals_tort function to generate artificial PAC.\n\n"
      ]
    },
    {
      "cell_type": "code",
      "execution_count": null,
      "metadata": {
        "collapsed": false
      },
      "outputs": [],
      "source": [
        "import matplotlib.pyplot as plt\nfrom tensorpac import pac_signals_tort\n\n# Generate one signal containing PAC. By default, this signal present a\n# coupling between a 2hz phase and a 100hz amplitude (2 <-> 100) :\nsig, time = pac_signals_tort(n_epochs=1, n_times=1000)\n\n# Now, we generate a longer and weaker 4 <-> 60 coupling using the chi\n#  parameter. In addition, we increase the amount of noise :\nsig2, time2 = pac_signals_tort(f_pha=4, f_amp=60, n_epochs=1, chi=.9,\n                               noise=3, n_times=3000)\n\n# Alternatively, you can generate multiple coupled signals :\nsig3, time3 = pac_signals_tort(f_pha=10, f_amp=150, n_epochs=3, chi=0.5,\n                               noise=2)\n\n# Finally, if you want to add variability across generated signals, use the\n# dpha and damp parameters :\nsig4, time4 = pac_signals_tort(f_pha=10, f_amp=50, n_epochs=3, dpha=30,\n                               damp=70, n_times=3000)\n\n\ndef plot(time, sig, title):\n    \"\"\"Plotting function.\"\"\"\n    plt.plot(time, sig.T, lw=.5, color='black')\n    plt.title(title)\n    plt.xlabel('Time (s)')\n    plt.ylabel('Amplitude')\n\n\nfig = plt.figure(figsize=(13, 5))\nplt.subplot(1, 2, 1)\nplot(time, sig, 'Strong coupling between\\n2hz <-> 100hz')\n\nplt.subplot(1, 2, 2)\nplot(time2, sig2, 'Weak and noisy coupling between\\n4hz <-> 60hz')\n\n# plt.subplot(2, 2, 3)\n# plot(time3, sig3, '3 signals coupled between 10hz <-> 150hz')\n\n# plt.subplot(2, 2, 4)\n# plot(time4, sig4, '3 signals coupled, with variability between 10hz <-> 50hz')\n\nplt.show()"
      ]
    }
  ],
  "metadata": {
    "kernelspec": {
      "display_name": "Python 3",
      "language": "python",
      "name": "python3"
    },
    "language_info": {
      "codemirror_mode": {
        "name": "ipython",
        "version": 3
      },
      "file_extension": ".py",
      "mimetype": "text/x-python",
      "name": "python",
      "nbconvert_exporter": "python",
      "pygments_lexer": "ipython3",
      "version": "3.6.9"
    }
  },
  "nbformat": 4,
  "nbformat_minor": 0
}