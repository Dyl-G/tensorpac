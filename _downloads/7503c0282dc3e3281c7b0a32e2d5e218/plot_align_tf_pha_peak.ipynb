{
  "cells": [
    {
      "cell_type": "code",
      "execution_count": null,
      "metadata": {
        "collapsed": false
      },
      "outputs": [],
      "source": [
        "%matplotlib inline"
      ]
    },
    {
      "cell_type": "markdown",
      "metadata": {},
      "source": [
        "\n# Align time-frequency representations according to phase peak\n\n\nThis example illustrates how to realign time-frequency representations\naccording to a phase. In particular, a time-point of reference is first\ndefined (`cue`). Then, the closest peak phase is found around this cue and the\nphase is shifted so that the peak of the phase is aligned with the cue.\nFinally, the same shift is then applied to the time-frequency representation.\nFor an extended description, see :class:`tensorpac.utils.PeakLockedTF`\n\nThis realignment can be a great tool to visualize the emergence of a\nphase-amplitude coupling according to a specific phase.\n\n"
      ]
    },
    {
      "cell_type": "code",
      "execution_count": null,
      "metadata": {
        "collapsed": false
      },
      "outputs": [],
      "source": [
        "import numpy as np\n\nfrom tensorpac.signals import pac_signals_wavelet\nfrom tensorpac.utils import PeakLockedTF\n\nimport matplotlib.pyplot as plt"
      ]
    },
    {
      "cell_type": "markdown",
      "metadata": {},
      "source": [
        "Simulate artificial coupling\n##############################################################################\n first, we generate a several trials that contains a coupling between a 4z\n phase and a 100hz amplitude. By default, the returned dataset is organized as\n (n_epochs, n_times) where n_times is the number of time points and n_epochs\n is the number of trials\n\n"
      ]
    },
    {
      "cell_type": "code",
      "execution_count": null,
      "metadata": {
        "collapsed": false
      },
      "outputs": [],
      "source": [
        "f_pha = 4.      # frequency for phase\nf_amp = 100.    # frequency for amplitude\nsf = 1024.      # sampling frequency\nn_epochs = 40   # number of epochs\nn_times = 2000  # number of time-points\nx, _ = pac_signals_wavelet(sf=sf, f_pha=4, f_amp=100, noise=1.,\n                           n_epochs=n_epochs, n_times=n_times)\ntimes = np.linspace(-1, 1, n_times)"
      ]
    },
    {
      "cell_type": "markdown",
      "metadata": {},
      "source": [
        "Define the peak-locking object and realign TF representations\n##############################################################################\n then, we define an instance of :class:`tensorpac.utils.PeakLockedTF`. This\n is assessed by using a reference time-point (here we used a cue at 0 second),\n a single phase interval and several amplitudes\n\n"
      ]
    },
    {
      "cell_type": "code",
      "execution_count": null,
      "metadata": {
        "collapsed": false
      },
      "outputs": [],
      "source": [
        "cue = 0.                 # time-point of reference (in seconds)\nf_pha = [3, 5]           # single frequency phase interval\nf_amp = (60, 140, 3, 1)  # amplitude frequencies\np_obj = PeakLockedTF(x, sf, cue, times=times, f_pha=f_pha, f_amp=f_amp)"
      ]
    },
    {
      "cell_type": "markdown",
      "metadata": {},
      "source": [
        "Plotting the realignment\n##############################################################################\n finally, we use the integrated plotting function to visualize the result of\n the realignment. The returned plot contains a bottom image which is the\n mean of the shifted time-frequency power and a bottom line plot which\n contains the single trial shifted phase in gray such as the mean of those\n shifted phases in blue. You can see from the bottom plot that we retrieve the\n 4hz <-> 100hz artificial coupling\n\n"
      ]
    },
    {
      "cell_type": "code",
      "execution_count": null,
      "metadata": {
        "collapsed": false
      },
      "outputs": [],
      "source": [
        "plt.figure(figsize=(8, 9))\ntitle = 'Peak-Locked TF representation according to delta phase'\np_obj.plot(vmin=0, cmap='viridis', title=title)\n\n# note that it is also possible to perform a z-score normalization to\n# compensate the natural 1 / f effect in the power of real data. In that case\n# the power is centered around 0\n# p_obj.plot(zscore=True, vmin=-1, vmax=1, cmap='Spectral_r')\n\nplt.tight_layout()\np_obj.show()"
      ]
    }
  ],
  "metadata": {
    "kernelspec": {
      "display_name": "Python 3",
      "language": "python",
      "name": "python3"
    },
    "language_info": {
      "codemirror_mode": {
        "name": "ipython",
        "version": 3
      },
      "file_extension": ".py",
      "mimetype": "text/x-python",
      "name": "python",
      "nbconvert_exporter": "python",
      "pygments_lexer": "ipython3",
      "version": "3.6.10"
    }
  },
  "nbformat": 4,
  "nbformat_minor": 0
}