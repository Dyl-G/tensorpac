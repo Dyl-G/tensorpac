{
  "cells": [
    {
      "cell_type": "code",
      "execution_count": null,
      "metadata": {
        "collapsed": false
      },
      "outputs": [],
      "source": [
        "%matplotlib inline"
      ]
    },
    {
      "cell_type": "markdown",
      "metadata": {},
      "source": [
        "\n=============================\nFind the preferred phase (PP)\n=============================\n\nFirst, the amplitude is binned according to phase slices (360 degrees/nbins).\nThen, the PP is defined as the phase where the amplitude is maximum. We finally\nuse the polar representation to display the preferred phase at different\namplitudes.\n\n"
      ]
    },
    {
      "cell_type": "code",
      "execution_count": null,
      "metadata": {
        "collapsed": false
      },
      "outputs": [],
      "source": [
        "import numpy as np\n\nfrom tensorpac import PreferredPhase\nfrom tensorpac.signals import pac_signals_wavelet\n\nimport matplotlib.pyplot as plt\n\nplt.style.use('seaborn-poster')"
      ]
    },
    {
      "cell_type": "markdown",
      "metadata": {},
      "source": [
        "Generate synthetic signals (sake of illustration)\n##############################################################################\n to illustrate how does the preferred phase works, we generate synthetic\n signals where a 6hz phase is coupled with a 100hz amplitude. We also\n define a maximum amplitude at pi / 2\n\n"
      ]
    },
    {
      "cell_type": "code",
      "execution_count": null,
      "metadata": {
        "collapsed": false
      },
      "outputs": [],
      "source": [
        "sf = 1024.\nn_epochs = 100\nn_times = 2000\npp = np.pi / 2\ndata, time = pac_signals_wavelet(f_pha=6, f_amp=100, n_epochs=n_epochs, sf=sf,\n                                 noise=1, n_times=n_times, pp=pp)"
      ]
    },
    {
      "cell_type": "markdown",
      "metadata": {},
      "source": [
        "Extract phases, amplitudes and compute the preferred phase\n##############################################################################\n\n"
      ]
    },
    {
      "cell_type": "code",
      "execution_count": null,
      "metadata": {
        "collapsed": false
      },
      "outputs": [],
      "source": [
        "p = PreferredPhase(f_pha=[5, 7], f_amp=(60, 200, 10, 1))\n\n# Extract the phase and the amplitude :\npha = p.filter(sf, data, ftype='phase', n_jobs=1)\namp = p.filter(sf, data, ftype='amplitude', n_jobs=1)\n\n# Now, compute the PP :\nampbin, pp, vecbin = p.fit(pha, amp, n_bins=72)"
      ]
    },
    {
      "cell_type": "markdown",
      "metadata": {},
      "source": [
        "Plot the preferred phase\n##############################################################################\n Here, we first plot the preferred phase across trials according to\n amplitudes. Then, the distribution of 100hz amplitudes is first plotted\n according to the 72 phase bins and also using a polar representation\n\n"
      ]
    },
    {
      "cell_type": "code",
      "execution_count": null,
      "metadata": {
        "collapsed": false
      },
      "outputs": [],
      "source": [
        "# Reshape the PP to be (n_epochs, n_amp) and the amplitude to be\n# (nbins, n_amp, n_epochs). Finally, we take the mean across trials\npp = np.squeeze(pp).T\nampbin = np.squeeze(ampbin).mean(-1)\n\nplt.figure(figsize=(20, 35))\n\n# Plot the prefered phase\nplt.subplot(221)\nplt.pcolormesh(p.yvec, np.arange(100), np.rad2deg(pp), cmap='RdBu_r')\ncb = plt.colorbar()\nplt.clim(vmin=-180., vmax=180.)\nplt.axis('tight')\nplt.xlabel('Amplitude frequencies (Hz)')\nplt.ylabel('Epochs')\nplt.title(\"Single trial PP according to amplitudes.\\n100hz amplitudes\"\n          \" are phase locked to 90\u00b0 (pi/2)\")\ncb.set_label('PP (in degrees)')\n\n# Then, we show  the histogram corresponding to an 100hz amplitude :\nidx100 = np.abs(p.yvec - 100.).argmin()\nplt.subplot(222)\nh = plt.hist(pp[:, idx100], color='#ab4642')\nplt.xlim((-np.pi, np.pi))\nplt.xlabel('PP')\nplt.title('PP across trials for the 100hz amplitude')\nplt.xticks([-np.pi, -np.pi / 2, 0, np.pi / 2, np.pi])\nplt.gca().set_xticklabels([r\"$-\\pi$\", r\"$-\\frac{\\pi}{2}$\", \"$0$\",\n                          r\"$\\frac{\\pi}{2}$\", r\"$\\pi$\"])\n\np.polar(ampbin.T, vecbin, p.yvec, cmap='RdBu_r', interp=.1, subplot=212,\n        cblabel='Amplitude bins')\n\np.show()"
      ]
    }
  ],
  "metadata": {
    "kernelspec": {
      "display_name": "Python 3",
      "language": "python",
      "name": "python3"
    },
    "language_info": {
      "codemirror_mode": {
        "name": "ipython",
        "version": 3
      },
      "file_extension": ".py",
      "mimetype": "text/x-python",
      "name": "python",
      "nbconvert_exporter": "python",
      "pygments_lexer": "ipython3",
      "version": "3.6.12"
    }
  },
  "nbformat": 4,
  "nbformat_minor": 0
}