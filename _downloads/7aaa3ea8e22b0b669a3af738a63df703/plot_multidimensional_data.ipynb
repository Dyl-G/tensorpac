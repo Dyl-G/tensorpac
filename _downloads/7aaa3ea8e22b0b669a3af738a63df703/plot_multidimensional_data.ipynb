{
  "cells": [
    {
      "cell_type": "code",
      "execution_count": null,
      "metadata": {
        "collapsed": false
      },
      "outputs": [],
      "source": [
        "%matplotlib inline"
      ]
    },
    {
      "cell_type": "markdown",
      "metadata": {},
      "source": [
        "\n# Compute PAC on multidimensional data\n\n\nOne of the strengths of Tensorpac is the ability to compute PAC on\nmultidimensional data. This example first generate a more realistic dataset\norganized as (n_subjects, n_electrodes, n_trias, n_points) and compute PAC on\nit.\n\n"
      ]
    },
    {
      "cell_type": "code",
      "execution_count": null,
      "metadata": {
        "collapsed": false
      },
      "outputs": [],
      "source": [
        "from __future__ import print_function\nimport numpy as np\nimport matplotlib.pyplot as plt\n\nfrom tensorpac import Pac, pac_signals_wavelet\n\nplt.style.use('seaborn-paper')\n\n# ----------------- Create the dataset -----------------\n# Dataset properties :\nn_subject = 4  # Number of subjects\nn_elec = 3     # Number of electrodes per subject\nn_trials = 5   # Number of trials per subect and per electrode\nn_pts = 2000   # Number of time points\nsf = 256.      # Sampling frequency\n\n# Generate different coupling for each subject/electrode :\nf_low_pha, f_high_pha = 2., 10.    # lowest/highest centered frq. for phase\nf_low_amp, f_high_amp = 30., 120.  # lowest/highest centered frq. for amplitude\nlow_noise, high_noise = .3, 1.5    # lowest/highest level of noise\n\nst = 'S{s}, Elec{e}, Pha {p}hz, Amp {a}hz, Noise {n}'\ndata, info = np.zeros((n_subject, n_elec, n_trials, n_pts), dtype=float), []\nfor i in range(n_subject):\n    for k in range(n_elec):\n        # Generate a random centered phase/amplitude/noise level :\n        fpha = np.random.randint(f_low_pha, f_high_pha, 1)[0]\n        famp = np.random.randint(f_low_amp, f_high_amp, 1)[0]\n        noise = np.random.uniform(low_noise, high_noise, 1)[0]\n        # Get dataset informations : :\n        inf = st.format(s=str(i + 1), e=str(k + 1), p=str(fpha), a=str(famp),\n                        n=str(noise))\n        info.append(inf)\n        # Generate coupling :\n        data[i, k, ...], time = pac_signals_wavelet(fpha=fpha, famp=famp,\n                                                    noise=noise, npts=n_pts,\n                                                    ntrials=n_trials, sf=sf)\n\n# ----------------- Compute PAC -----------------\n# Define the PAC object :\np = Pac(idpac=(4, 0, 0), fpha=(1, 15, 1, .3), famp=(25, 130, 5, 1),\n        dcomplex='wavelet', width=12)\n# Compute PAC along the time axis and take the mean across trials :\npac = p.filterfit(sf, data, axis=3).mean(-1)\n\n# ----------------- Visualization -----------------\nq = 1\nplt.figure(figsize=(20, 19))\nfor i in range(n_subject):\n    for k in range(n_elec):\n        plt.subplot(n_subject, n_elec, q)\n        p.comodulogram(pac[:, :, i, k], title=info[q - 1], interp=(.2, .2))\n        q += 1\n\np.show()"
      ]
    }
  ],
  "metadata": {
    "kernelspec": {
      "display_name": "Python 3",
      "language": "python",
      "name": "python3"
    },
    "language_info": {
      "codemirror_mode": {
        "name": "ipython",
        "version": 3
      },
      "file_extension": ".py",
      "mimetype": "text/x-python",
      "name": "python",
      "nbconvert_exporter": "python",
      "pygments_lexer": "ipython3",
      "version": "3.7.1"
    }
  },
  "nbformat": 4,
  "nbformat_minor": 0
}