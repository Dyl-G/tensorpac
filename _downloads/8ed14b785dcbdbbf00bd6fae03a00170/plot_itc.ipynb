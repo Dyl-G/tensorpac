{
  "cells": [
    {
      "cell_type": "code",
      "execution_count": null,
      "metadata": {
        "collapsed": false
      },
      "outputs": [],
      "source": [
        "%matplotlib inline"
      ]
    },
    {
      "cell_type": "markdown",
      "metadata": {},
      "source": [
        "\n================================================\nCompute and plot the Inter-Trial Coherence (ITC)\n================================================\n\nThis example illustrate how to compute and plot the Inter-Trial Coherence\n(ITC). The ITC can be used to inspect if phases are aligned across trials or\nsaid differently, it provides a measure of the consistency across trials.\n\n"
      ]
    },
    {
      "cell_type": "code",
      "execution_count": null,
      "metadata": {
        "collapsed": false
      },
      "outputs": [],
      "source": [
        "import numpy as np\n\nfrom tensorpac.utils import ITC, PSD\n\nimport matplotlib.pyplot as plt"
      ]
    },
    {
      "cell_type": "markdown",
      "metadata": {},
      "source": [
        "Generate a random data of shape (n_epochs, n_times)\n##############################################################################\n the dataset used in this example is composed of pure sines and noise. All\n sines across epochs are going to have a unique frequency so that there is no\n synchronization between them except around 0 second\n\n"
      ]
    },
    {
      "cell_type": "code",
      "execution_count": null,
      "metadata": {
        "collapsed": false
      },
      "outputs": [],
      "source": [
        "# Let's start by creating a random dataset\nn_epochs = 100  # number of trials\nn_pts = 1000    # number of time points\nsf = 512.       # sampling frequency\nf_min = 10      # minimum sine frequency\nf_max = 15      # maximum sine frequency\n\n# create sines\ntime = np.linspace(-n_pts / 2, n_pts / 2, n_pts) / sf\nfreqs = np.linspace(f_min, f_max, n_epochs)\ndata = np.sin(2 * np.pi * freqs.reshape(-1, 1) * time.reshape(1, -1))\ndata += .1 * np.random.rand(n_epochs, n_pts)\n\n# plot some trials and see how sines are synchronized around 0\ntrials = np.linspace(0, n_epochs - 1, 10).astype(int)\nplt.figure(0)\nplt.plot(time, data[trials, :].T, alpha=.5)\nplt.xlabel('Time (seconds)'), plt.ylabel('Amplitude (V)')"
      ]
    },
    {
      "cell_type": "markdown",
      "metadata": {},
      "source": [
        "Compute and plot the Power Spectrum Density (PSD)\n##############################################################################\n the PSD can also be used to inspect how frequencies are distributed across\n trials\n\n"
      ]
    },
    {
      "cell_type": "code",
      "execution_count": null,
      "metadata": {
        "collapsed": false
      },
      "outputs": [],
      "source": [
        "psd = PSD(data, sf)\nplt.figure(1)\npsd.plot(f_max=30, confidence=None)"
      ]
    },
    {
      "cell_type": "markdown",
      "metadata": {},
      "source": [
        "Compute and plot the Inter-Trial Coherence (ITC)\n##############################################################################\n finally, compute and plot the ITC\n sphinx_gallery_thumbnail_number = 3\n\n"
      ]
    },
    {
      "cell_type": "code",
      "execution_count": null,
      "metadata": {
        "collapsed": false
      },
      "outputs": [],
      "source": [
        "edges = 10  # remove 10 points to remove edge effects due to filtering\ncycle = 6   # number of cycles to use to extract the phase\n\nplt.figure(2, figsize=(14, 4))\n\n# compute ITC for phases between [2, 30]Hz\nitc = ITC(data, sf, f_pha=[f_min, f_max], edges=edges, cycle=cycle, n_jobs=1)\nplt.subplot(121)\nitc.plot(times=time)\nplt.axvline(0, linestyle='--', color='black', lw=2)\n\n# compute ITC for phases between [2, 30]Hz with frequency steps\nitc = ITC(data, sf, f_pha=(2, 30, 1, .5), edges=edges, cycle=cycle, n_jobs=1)\nplt.subplot(122)\nitc.plot(times=time, cmap='viridis')\nplt.axvline(0, linestyle='--', color='white', lw=2)\nitc.show()"
      ]
    }
  ],
  "metadata": {
    "kernelspec": {
      "display_name": "Python 3",
      "language": "python",
      "name": "python3"
    },
    "language_info": {
      "codemirror_mode": {
        "name": "ipython",
        "version": 3
      },
      "file_extension": ".py",
      "mimetype": "text/x-python",
      "name": "python",
      "nbconvert_exporter": "python",
      "pygments_lexer": "ipython3",
      "version": "3.6.10"
    }
  },
  "nbformat": 4,
  "nbformat_minor": 0
}