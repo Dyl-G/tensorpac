{
  "cells": [
    {
      "cell_type": "code",
      "execution_count": null,
      "metadata": {
        "collapsed": false
      },
      "outputs": [],
      "source": [
        "%matplotlib inline"
      ]
    },
    {
      "cell_type": "markdown",
      "metadata": {},
      "source": [
        "\n=====================================\nCompute the ERPAC (Voytek et al 2013)\n=====================================\n\nEvent-Related Phase-Amplitude Coupling (ERPAC) do not measure PAC across time\ncycle but instead, across trials (just as proposed JP. Lachaux with the\nPLV/PLS). Measuring across trials enable to have a real-time estimation of PAC.\nWarning, depending on your data, even with tensor calculation the ERPAC is\nsignificantly slower. Don't worry, take a coffee.\n\nIn this example, we generate a signal that have a 10<->100hz coupling the first\n1000 points, then, the 700 following points are noise.\n\n"
      ]
    },
    {
      "cell_type": "code",
      "execution_count": null,
      "metadata": {
        "collapsed": false
      },
      "outputs": [],
      "source": [
        "import numpy as np\nfrom tensorpac import Pac, pac_signals_wavelet\n\n# Generate a 10<->100hz coupling :\nn_epochs = 300\nn_times = 1000\nsf = 1024.\nx1, tvec = pac_signals_wavelet(f_pha=10, f_amp=100, n_epochs=n_epochs, noise=2,\n                               n_times=n_times, sf=sf)\n\n# Generate noise and concatenate the coupling and the noise :\nx2 = np.random.rand(n_epochs, 700)\nx = np.concatenate((x1.squeeze(), x2), axis=1)  # Shape : (n_epochs, n_times)\ntime = np.arange(x.shape[1]) / sf\n\n# Define a PAC object :\np = Pac(f_pha=[9, 11], f_amp=(60, 140, 5, 1))\n\n# Extract the phase and the amplitude :\npha = p.filter(sf, x, ftype='phase')      # Shape (npha, n_epochs, n_times)\namp = p.filter(sf, x, ftype='amplitude')  # Shape (namp, n_epochs, n_times)\n\n# Compute the ERPAC and use the traxis to specify that the trial axis is the\n# first one :\nerpac = p.erpac(pha, amp).squeeze()\npval = p.pvalues_.squeeze()\n\n# Plot without p-values :\np.pacplot(erpac, time, p.yvec, xlabel='Time (second)', cmap='Spectral_r',\n          ylabel='Amplitude frequency', title=str(p), cblabel='ERPAC',\n          vmin=0., rmaxis=True)\n\n# Plot with every non-significant values masked in gray :\n# p.pacplot(erpac, time, p.yvec, xlabel='Time (second)', cmap='Spectral_r',\n#           ylabel='Amplitude frequency', title='ERPAC example', vmin=0.,\n#           vmax=1., pvalues=pval, bad='lightgray', plotas='contour',\n#           cblabel='ERPAC')\n\n# Plot with significiendy levels :\n# p.pacplot(erpac, time, p.yvec, xlabel='Time (second)', cmap='Spectral_r',\n#           ylabel='Amplitude frequency', title='ERPAC example', vmin=0.,\n#           vmax=1., pvalues=pval, levels=[1e-20, 1e-10, 1e-2, 0.05],\n#           levelcmap='inferno', plotas='contour', cblabel='ERPAC')\n# p.savefig('erpac.png', dpi=300)\np.show()"
      ]
    }
  ],
  "metadata": {
    "kernelspec": {
      "display_name": "Python 3",
      "language": "python",
      "name": "python3"
    },
    "language_info": {
      "codemirror_mode": {
        "name": "ipython",
        "version": 3
      },
      "file_extension": ".py",
      "mimetype": "text/x-python",
      "name": "python",
      "nbconvert_exporter": "python",
      "pygments_lexer": "ipython3",
      "version": "3.6.8"
    }
  },
  "nbformat": 4,
  "nbformat_minor": 0
}