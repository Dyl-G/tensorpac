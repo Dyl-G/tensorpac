{
  "cells": [
    {
      "cell_type": "code",
      "execution_count": null,
      "metadata": {
        "collapsed": false
      },
      "outputs": [],
      "source": [
        "%matplotlib inline"
      ]
    },
    {
      "cell_type": "markdown",
      "metadata": {},
      "source": [
        "\n# Event-Related Phase Amplitude Coupling\n\n\nEvent-Related Phase-Amplitude Coupling (ERPAC) do not measure PAC across time\ncycle but instead, across trials (just as proposed JP. Lachaux with the\nPLV/PLS). Measuring across trials enable to have a real-time estimation of PAC.\n\nIn this example, we generate a signal that have a 10hz phase <->100 hz\namplitude coupling first followed by a random noise.\n\n"
      ]
    },
    {
      "cell_type": "code",
      "execution_count": null,
      "metadata": {
        "collapsed": false
      },
      "outputs": [],
      "source": [
        "import numpy as np\nfrom tensorpac import EventRelatedPac, pac_signals_wavelet\nimport matplotlib.pyplot as plt"
      ]
    },
    {
      "cell_type": "markdown",
      "metadata": {},
      "source": [
        "Generate a synthetic signal\n##############################################################################\n in order to illustrate how the ERPAC does works, we are going to concatenate\n two signals. A first one with an alpha <-> gamma coupling during one second\n and then a second one which is going to be a one second random noise\n\n"
      ]
    },
    {
      "cell_type": "code",
      "execution_count": null,
      "metadata": {
        "collapsed": false
      },
      "outputs": [],
      "source": [
        "# First signal consisting of a one second 10 <-> 100hz coupling\nn_epochs = 300\nn_times = 1000\nsf = 1000.\nx1, tvec = pac_signals_wavelet(f_pha=10, f_amp=100, n_epochs=n_epochs, noise=2,\n                               n_times=n_times, sf=sf)\n\n# Second signal : one second of random noise\nx2 = np.random.rand(n_epochs, 1000)\n\n# now, concatenate the two signals across the time axis\nx = np.concatenate((x1, x2), axis=1)\ntime = np.arange(x.shape[1]) / sf"
      ]
    },
    {
      "cell_type": "markdown",
      "metadata": {},
      "source": [
        "Define an ERPAC object and extract the phase and the amplitude\n##############################################################################\n use :class:`tensorpac.EventRelatedPac.filter` method to extract phases and\n amplitudes\n\n"
      ]
    },
    {
      "cell_type": "code",
      "execution_count": null,
      "metadata": {
        "collapsed": false
      },
      "outputs": [],
      "source": [
        "# define an ERPAC object\np = EventRelatedPac(f_pha=[9, 11], f_amp=(60, 140, 5, 2))\n\n# extract phases and amplitudes\npha = p.filter(sf, x, ftype='phase')\namp = p.filter(sf, x, ftype='amplitude')"
      ]
    },
    {
      "cell_type": "markdown",
      "metadata": {},
      "source": [
        "Compute the ERPAC using the two implemented methods and plot it\n##############################################################################\n\n"
      ]
    },
    {
      "cell_type": "code",
      "execution_count": null,
      "metadata": {
        "collapsed": false
      },
      "outputs": [],
      "source": [
        "# implemented ERPAC methods\nmethods = ['circular', 'gc']\n\nplt.figure(figsize=(16, 8))\nfor n_m, m in enumerate(methods):\n    # compute the erpac\n    erpac = p.fit(pha, amp, method=m).squeeze()\n\n    # plot\n    plt.subplot(len(methods), 1, n_m + 1)\n    p.pacplot(erpac, time, p.yvec, xlabel='Time (second)' * n_m,\n              cmap='Spectral_r', ylabel='Amplitude frequency', title=p.method,\n              cblabel='ERPAC', vmin=0., rmaxis=True)\n    plt.axvline(1., linestyle='--', color='w', linewidth=2)\n\np.show()"
      ]
    }
  ],
  "metadata": {
    "kernelspec": {
      "display_name": "Python 3",
      "language": "python",
      "name": "python3"
    },
    "language_info": {
      "codemirror_mode": {
        "name": "ipython",
        "version": 3
      },
      "file_extension": ".py",
      "mimetype": "text/x-python",
      "name": "python",
      "nbconvert_exporter": "python",
      "pygments_lexer": "ipython3",
      "version": "3.6.8"
    }
  },
  "nbformat": 4,
  "nbformat_minor": 0
}