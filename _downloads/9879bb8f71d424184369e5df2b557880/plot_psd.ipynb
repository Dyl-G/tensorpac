{
  "cells": [
    {
      "cell_type": "code",
      "execution_count": null,
      "metadata": {
        "collapsed": false
      },
      "outputs": [],
      "source": [
        "%matplotlib inline"
      ]
    },
    {
      "cell_type": "markdown",
      "metadata": {},
      "source": [
        "\n=================================================\nCompute and plot the Power Spectrum Density (PSD)\n=================================================\n\nThis example illustrate how to compute and plot the Power Spectrum Density\n(PSD) of an electrophysiological dataset. The PSD should be used to check that\nthere is the presence of a clear peak, espacially for frequency phase.\n\n"
      ]
    },
    {
      "cell_type": "code",
      "execution_count": null,
      "metadata": {
        "collapsed": false
      },
      "outputs": [],
      "source": [
        "from tensorpac.utils import PSD\nfrom tensorpac.signals import pac_signals_tort\n\n# Dataset of signals artificially coupled between 10hz and 100hz :\nn_epochs = 20\nn_times = 4000\nsf = 512.  # sampling frequency\n\n# Create artificially coupled signals using Tort method :\ndata, time = pac_signals_tort(f_pha=10, f_amp=100, noise=4, n_epochs=n_epochs,\n                              dpha=10, damp=10, sf=sf, n_times=n_times)\n\n# compute the PSD\npsd = PSD(data, sf)\n\n# plot the mean PSD across trials between [5, 150]Hz with a 95th confidence\n# interval. Also, use a log x-scale\nax = psd.plot(confidence=95, f_min=5, f_max=150, log=True, grid=True)\n\n# finally display the figure\npsd.show()"
      ]
    }
  ],
  "metadata": {
    "kernelspec": {
      "display_name": "Python 3",
      "language": "python",
      "name": "python3"
    },
    "language_info": {
      "codemirror_mode": {
        "name": "ipython",
        "version": 3
      },
      "file_extension": ".py",
      "mimetype": "text/x-python",
      "name": "python",
      "nbconvert_exporter": "python",
      "pygments_lexer": "ipython3",
      "version": "3.6.10"
    }
  },
  "nbformat": 4,
  "nbformat_minor": 0
}