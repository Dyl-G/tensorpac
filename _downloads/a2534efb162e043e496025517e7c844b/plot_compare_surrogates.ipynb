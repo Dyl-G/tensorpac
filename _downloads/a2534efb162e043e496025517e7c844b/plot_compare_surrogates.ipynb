{
  "cells": [
    {
      "cell_type": "code",
      "execution_count": null,
      "metadata": {
        "collapsed": false
      },
      "outputs": [],
      "source": [
        "%matplotlib inline"
      ]
    },
    {
      "cell_type": "markdown",
      "metadata": {},
      "source": [
        "\n# Compare surrogate methods\n\n\nSurrogates are used to generate a chance ditribution in order to correct the\nPAC estimation.\n\n"
      ]
    },
    {
      "cell_type": "code",
      "execution_count": null,
      "metadata": {
        "collapsed": false
      },
      "outputs": [],
      "source": [
        "from __future__ import print_function\nimport matplotlib.pyplot as plt\nfrom tensorpac.utils import pac_signals_wavelet\nfrom tensorpac import Pac\nplt.style.use('seaborn-paper')\n\n# First, we generate a delta <-> low-gamma coupling. By default, this dataset\n#  is organized as (ntrials, npts) where npts is the number of time points.\nn = 30  # number of datasets\nsf = 512.  # sampling frequency\ndata, time = pac_signals_wavelet(sf=sf, fpha=6, famp=70, noise=2., ntrials=n,\n                                 npts=4000)\n\n# First, let's use the MVL, without any further correction by surrogates :\np = Pac(fpha=(3, 10, 1, .2), famp=(50, 90, 5, 1), dcomplex='wavelet', width=12)\n\n# Now, we want to compare PAC methods, hence it's useless to systematically\n# filter the data. So we extract the phase and the amplitude only once :\nphases = p.filter(sf, data, axis=1, ftype='phase')\namplitudes = p.filter(sf, data, axis=1, ftype='amplitude')\n\nplt.figure(figsize=(18, 9))\nfor i, k in enumerate(range(5)):\n    # Change the pac method :\n    p.idpac = (5, k, 1)\n    print('-> Surrogates using ' + p.surro)\n    # Compute only the PAC without filtering :\n    xpac = p.fit(phases, amplitudes, axis=2, nperm=5)\n    # Plot :\n    plt.subplot(2, 3, k + 1)\n    p.comodulogram(xpac.mean(-1), title=p.surro, cmap='Spectral_r')\n\nplt.show()"
      ]
    }
  ],
  "metadata": {
    "kernelspec": {
      "display_name": "Python 3",
      "language": "python",
      "name": "python3"
    },
    "language_info": {
      "codemirror_mode": {
        "name": "ipython",
        "version": 3
      },
      "file_extension": ".py",
      "mimetype": "text/x-python",
      "name": "python",
      "nbconvert_exporter": "python",
      "pygments_lexer": "ipython3",
      "version": "3.7.1"
    }
  },
  "nbformat": 4,
  "nbformat_minor": 0
}