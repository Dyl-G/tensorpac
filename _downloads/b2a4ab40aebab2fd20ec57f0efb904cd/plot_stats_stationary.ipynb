{
  "cells": [
    {
      "cell_type": "code",
      "execution_count": null,
      "metadata": {
        "collapsed": false
      },
      "outputs": [],
      "source": [
        "%matplotlib inline"
      ]
    },
    {
      "cell_type": "markdown",
      "metadata": {},
      "source": [
        "\n# Identify stationary time-series using unit root test\n\n\nThis example illustrates how to identify stationary time-series (i.e.\ntime-series with constant statistical properties such as mean, variance etc.).\nHere, we are going to use the Augmented Dickey-Fuller test.\n\n"
      ]
    },
    {
      "cell_type": "code",
      "execution_count": null,
      "metadata": {
        "collapsed": false
      },
      "outputs": [],
      "source": [
        "import numpy as np\n\nfrom tensorpac.stats import test_stationarity\n\nimport matplotlib.pyplot as plt"
      ]
    },
    {
      "cell_type": "markdown",
      "metadata": {},
      "source": [
        "Define a random dataset\n##############################################################################\n Let first create a random dataset and change temporal properties\n\n"
      ]
    },
    {
      "cell_type": "code",
      "execution_count": null,
      "metadata": {
        "collapsed": false
      },
      "outputs": [],
      "source": [
        "n_epochs = 8   # number of epochs\nn_times = 200  # number of time points\nsf = 128.\n\n# create a reproducable random dataset\nrng = np.random.RandomState(1)\ndata = rng.rand(n_epochs, n_times)\ntime = np.arange(n_times) / sf\n\n# if we run the test on this random dataset, every epochs are going to be found\n# as stationary as statistical properties are constant across time. Hence, we\n# can introduce some randomness into this dataset to illustrate the sensibility\n# of the test\n\ntitles = {0: \"constant offset\", 1: \"increasing linear trend\",\n          2: \"decreasing linear trend\", 3: \"constant oscillations\",\n          4: \"offset on second half\", 5: \"divide by 2 first half amplitude\",\n          6: \"modulated oscillations\", 7: \"random signal\"}\n\n# Epoch 0 : constant offset\ndata[0, :] += 10.\ndata[1, :] += np.linspace(0, 1, n_times)\ndata[2, :] += np.linspace(1, 0, n_times)\ndata[3, :] += np.sin(2 * np.pi * 4 * time)\ndata[4, 100:] += 30.\ndata[5, 0:100] /= 2\ndata[6, :] += np.sin(2 * np.pi * 4 * time) * np.linspace(1, 2, n_times)"
      ]
    },
    {
      "cell_type": "markdown",
      "metadata": {},
      "source": [
        "Compute the statistical test\n##############################################################################\n now, run the Augmented Dickey-Fuller test in order to identify which trials\n are statisticaly considered as stationary\n\n"
      ]
    },
    {
      "cell_type": "code",
      "execution_count": null,
      "metadata": {
        "collapsed": false
      },
      "outputs": [],
      "source": [
        "df = test_stationarity(data, p=0.05)\nprint(df)"
      ]
    },
    {
      "cell_type": "markdown",
      "metadata": {},
      "source": [
        "Plot each trial\n##############################################################################\n finally, plot color-coded time-series (green : stationary,\n red: non-stationary)\n\n"
      ]
    },
    {
      "cell_type": "code",
      "execution_count": null,
      "metadata": {
        "collapsed": false
      },
      "outputs": [],
      "source": [
        "colors = {True: 'green', False: 'red'}\n\nis_stationary = df[\"Stationary\"]\n\nplt.figure(figsize=(18, 8))\nfor k in range(n_epochs):\n    plt.subplot(2, 4, k + 1)\n    plt.plot(data[k, :], color=colors[is_stationary[k]])\n    plt.title(titles[k], fontweight='bold')\nplt.tight_layout()\nplt.show()"
      ]
    }
  ],
  "metadata": {
    "kernelspec": {
      "display_name": "Python 3",
      "language": "python",
      "name": "python3"
    },
    "language_info": {
      "codemirror_mode": {
        "name": "ipython",
        "version": 3
      },
      "file_extension": ".py",
      "mimetype": "text/x-python",
      "name": "python",
      "nbconvert_exporter": "python",
      "pygments_lexer": "ipython3",
      "version": "3.6.10"
    }
  },
  "nbformat": 4,
  "nbformat_minor": 0
}