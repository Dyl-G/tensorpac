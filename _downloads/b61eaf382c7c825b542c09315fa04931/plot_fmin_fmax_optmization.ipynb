{
  "cells": [
    {
      "cell_type": "code",
      "execution_count": null,
      "metadata": {
        "collapsed": false
      },
      "outputs": [],
      "source": [
        "%matplotlib inline"
      ]
    },
    {
      "cell_type": "markdown",
      "metadata": {},
      "source": [
        "\n# Find the optimal bandwidth\n\n\nInstead of looking for phase and amplitude frequency pairs (as in a\ncomodulogram) this example illustrate how it is possible to find starting,\nending and therefore, bandwidth coupling.\n\n"
      ]
    },
    {
      "cell_type": "code",
      "execution_count": null,
      "metadata": {
        "collapsed": false
      },
      "outputs": [],
      "source": [
        "from tensorpac import Pac\nfrom tensorpac.signals import pac_signals_tort\nfrom tensorpac.utils import pac_trivec\n\nsf = 256.\ndata, time = pac_signals_tort(f_pha=[5, 7], f_amp=[60, 80], noise=2,\n                              n_epochs=5, n_times=3000, sf=sf, dpha=10)\n\ntrif, tridx = pac_trivec(f_start=30, f_end=140, f_width=3)\n\np = Pac(idpac=(1, 0, 0), f_pha=[5, 7], f_amp=trif)\npac = p.filterfit(sf, data)\n\np.triplot(pac.mean(-1), trif, tridx, cmap='Spectral_r', rmaxis=True,\n          title=r'Optimal $[Fmin; Fmax]hz$ band for amplitude')\n\n# In this example, we generated a coupling with a phase between [5, 7]hz and an\n# amplitude between [60, 80]hz. To interpret the figure, the best starting\n# frequency is around 50hz and the best ending frequency is around 90hz. In\n# conclusion, the optimal amplitude bandwidth for this [5, 7]hz phase is\n# [50, 90]hz.\n\n# plt.savefig('triplot.png', dpi=600, bbox_inches='tight')\n\np.show()"
      ]
    }
  ],
  "metadata": {
    "kernelspec": {
      "display_name": "Python 3",
      "language": "python",
      "name": "python3"
    },
    "language_info": {
      "codemirror_mode": {
        "name": "ipython",
        "version": 3
      },
      "file_extension": ".py",
      "mimetype": "text/x-python",
      "name": "python",
      "nbconvert_exporter": "python",
      "pygments_lexer": "ipython3",
      "version": "3.6.10"
    }
  },
  "nbformat": 4,
  "nbformat_minor": 0
}