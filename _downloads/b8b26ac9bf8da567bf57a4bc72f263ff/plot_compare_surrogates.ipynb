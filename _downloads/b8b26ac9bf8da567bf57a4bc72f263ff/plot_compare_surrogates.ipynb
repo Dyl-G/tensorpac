{
  "cells": [
    {
      "cell_type": "code",
      "execution_count": null,
      "metadata": {
        "collapsed": false
      },
      "outputs": [],
      "source": [
        "%matplotlib inline"
      ]
    },
    {
      "cell_type": "markdown",
      "metadata": {},
      "source": [
        "\n# Compare surrogate methods\n\n\nSurrogates are used to generate a chance ditribution in order to correct the\nPAC estimation.\n\n"
      ]
    },
    {
      "cell_type": "code",
      "execution_count": null,
      "metadata": {
        "collapsed": false
      },
      "outputs": [],
      "source": [
        "from __future__ import print_function\nimport matplotlib.pyplot as plt\n\nfrom tensorpac import Pac\nfrom tensorpac.signals import pac_signals_wavelet\nplt.style.use('seaborn-paper')\n\n# First, we generate a delta <-> low-gamma coupling. By default, this dataset\n#  is organized as (n_epochs, n_times) where n_times is the number of time\n# points.\nn_epochs = 20     # number of datasets\nsf = 512.  # sampling frequency\ndata, time = pac_signals_wavelet(sf=sf, f_pha=6, f_amp=70, noise=3.,\n                                 n_epochs=n_epochs, n_times=4000)\n\n# First, let's use the MVL, without any further correction by surrogates :\np = Pac(f_pha=(3, 10, 1, .2), f_amp=(50, 90, 5, 1), dcomplex='wavelet',\n        width=12)\n\n# Now, we want to compare PAC methods, hence it's useless to systematically\n# filter the data. So we extract the phase and the amplitude only once :\nphases = p.filter(sf, data, ftype='phase')\namplitudes = p.filter(sf, data, ftype='amplitude')\n\nplt.figure(figsize=(16, 12))\nfor i, k in enumerate(range(4)):\n    # Change the pac method :\n    p.idpac = (5, k, 1)\n    # Compute only the PAC without filtering :\n    xpac = p.fit(phases, amplitudes, n_perm=10)\n    # Plot :\n    plt.subplot(2, 2, k + 1)\n    p.comodulogram(xpac.mean(-1), title=p.str_surro, cmap='Reds', vmin=0)\n\nplt.show()"
      ]
    }
  ],
  "metadata": {
    "kernelspec": {
      "display_name": "Python 3",
      "language": "python",
      "name": "python3"
    },
    "language_info": {
      "codemirror_mode": {
        "name": "ipython",
        "version": 3
      },
      "file_extension": ".py",
      "mimetype": "text/x-python",
      "name": "python",
      "nbconvert_exporter": "python",
      "pygments_lexer": "ipython3",
      "version": "3.6.10"
    }
  },
  "nbformat": 4,
  "nbformat_minor": 0
}