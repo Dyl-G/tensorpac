{
  "cells": [
    {
      "cell_type": "code",
      "execution_count": null,
      "metadata": {
        "collapsed": false
      },
      "outputs": [],
      "source": [
        "%matplotlib inline"
      ]
    },
    {
      "cell_type": "markdown",
      "metadata": {},
      "source": [
        "\n# Compare methods to correct PAC for spurious coupling\n\n\nThis example illustrates the different implemented methods in order to generate\nthe distribution of surrogates and then to correct the PAC for spurious\ncouplings. This includes :\n\n    * Swapping phase / amplitude trials (Tort et al. 2010,\n      :cite:`tort2010measuring`)\n    * Swapping amplitudes time blocks [RECOMMENDED] (Bahramisharif et al. 2013,\n      :cite:`bahramisharif2013propagating`, Aru et al. 2015,\n      :cite:`aru2015untangling`)\n    * Introducing a time lag on phase series (Canolty et al. 2006,\n      :cite:`canolty2006high`)\n\n\n"
      ]
    },
    {
      "cell_type": "code",
      "execution_count": null,
      "metadata": {
        "collapsed": false
      },
      "outputs": [],
      "source": [
        "import matplotlib.pyplot as plt\n\nfrom tensorpac import Pac\nfrom tensorpac.signals import pac_signals_wavelet"
      ]
    },
    {
      "cell_type": "markdown",
      "metadata": {},
      "source": [
        "Simulate artificial coupling\n##############################################################################\n first, we generate several trials that contains a coupling between a 6z phase\n and a 90hz amplitude. By default, the returned dataset is organized as\n (n_epochs, n_times) where n_times is the number of time points and n_epochs\n is the number of trials\n\n"
      ]
    },
    {
      "cell_type": "code",
      "execution_count": null,
      "metadata": {
        "collapsed": false
      },
      "outputs": [],
      "source": [
        "f_pha = 6       # frequency phase for the coupling\nf_amp = 70      # frequency amplitude for the coupling\nn_epochs = 20   # number of trials\nn_times = 4000  # number of time points\nsf = 512.       # sampling frequency\ndata, time = pac_signals_wavelet(sf=sf, f_pha=f_pha, f_amp=f_amp, noise=3.,\n                                 n_epochs=n_epochs, n_times=n_times)"
      ]
    },
    {
      "cell_type": "markdown",
      "metadata": {},
      "source": [
        "Extract phases and amplitudes\n##############################################################################\n now, we are going to extract all the phases and amplitudes. This is going to\n be useful then because it avoid to do it each time we're going to compute the\n PAC.\n\n"
      ]
    },
    {
      "cell_type": "code",
      "execution_count": null,
      "metadata": {
        "collapsed": false
      },
      "outputs": [],
      "source": [
        "# define a :class:`tensorpac.Pac` object and use the MVL as the main method\n# for measuring PAC\np = Pac(idpac=(1, 0, 0), f_pha=(3, 10, 1, .2), f_amp=(50, 90, 5, 1),\n        dcomplex='wavelet', width=12)\n\n# Now, extract all of the phases and amplitudes\nphases = p.filter(sf, data, ftype='phase')\namplitudes = p.filter(sf, data, ftype='amplitude')"
      ]
    },
    {
      "cell_type": "markdown",
      "metadata": {},
      "source": [
        "Compute PAC and surrogates\n##############################################################################\n now the phases and amplitudes are extracted, we can compute the true PAC such\n as the surrogates. Then the true value of PAC is going to be normalized using\n a z-score normalization and using the distribution of surrogates\n\n"
      ]
    },
    {
      "cell_type": "code",
      "execution_count": null,
      "metadata": {
        "collapsed": false
      },
      "outputs": [],
      "source": [
        "plt.figure(figsize=(16, 12))\nfor i, k in enumerate(range(4)):\n    # change the pac method\n    p.idpac = (5, k, 1)\n    # compute only the pac without filtering\n    xpac = p.fit(phases, amplitudes, n_perm=20)\n    # plot\n    title = p.str_surro.replace(' (', '\\n(')\n    plt.subplot(2, 2, k + 1)\n    p.comodulogram(xpac.mean(-1), title=title, cmap='Reds', vmin=0,\n                   fz_labels=18, fz_title=20, fz_cblabel=18)\n\nplt.tight_layout()\n\nplt.show()"
      ]
    }
  ],
  "metadata": {
    "kernelspec": {
      "display_name": "Python 3",
      "language": "python",
      "name": "python3"
    },
    "language_info": {
      "codemirror_mode": {
        "name": "ipython",
        "version": 3
      },
      "file_extension": ".py",
      "mimetype": "text/x-python",
      "name": "python",
      "nbconvert_exporter": "python",
      "pygments_lexer": "ipython3",
      "version": "3.6.12"
    }
  },
  "nbformat": 4,
  "nbformat_minor": 0
}