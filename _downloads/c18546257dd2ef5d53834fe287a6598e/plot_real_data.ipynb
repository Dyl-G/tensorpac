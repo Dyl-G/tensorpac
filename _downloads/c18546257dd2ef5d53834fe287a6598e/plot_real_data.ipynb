{
  "cells": [
    {
      "cell_type": "code",
      "execution_count": null,
      "metadata": {
        "collapsed": false
      },
      "outputs": [],
      "source": [
        "%matplotlib inline"
      ]
    },
    {
      "cell_type": "markdown",
      "metadata": {},
      "source": [
        "\n# Phase-Amplitude Coupling tutorial on sEEG data\n\n\nIn this example, we illustrate how to conduct a PAC analysis on real data. The\ndata used here are taken from Combrisson et al. 2017\n:cite:`combrisson2017intentions`. The task is a center-out motor task where the\nsubject have to reach a target on a screen with the mouse. A single trial\nconsists in three periods :\n\n    * From [-1000, 0]ms it is the baseline period (REST)\n    * From [0, 1500]ms the subject have to prepare the movement (MOTOR\n      PLANNING period)\n    * From [1500, 3000]ms the subject perform the movement to reach the target\n      on the screen (MOTOR EXECUTION period)\n\nThe recorded electrophysiological data comes from an epileptic subject with\nelectrodes deep inside the brain (intracranial EEG or\nstereoelectroencephalography). Here, the provided data contains only a single\nrecording contact for one subject. This contact is located in the premotor\ncortex.\n\nWhen working with phase-amplitude coupling, there are basically three questions\nyou should try to answer :\n\n    1. What is the range of phase frequencies supporting this coupling?\n    2. Where in time this coupling occurs?\n    3. What is the range of amplitude frequencies supporting this coupling?\n\nIn this tutorial we propose to answer to those three questions using following\nstructure :\n\n    1. Compute the inter-trial coherence (ITC) and see if the phases are\n       realigned at a given time point (:class:`tensorpac.utils.ITC`)\n    2. Compute the Power Spectrum Density (PSD) to try to find the phase\n       frequency range (:class:`tensorpac.utils.PSD`)\n    3. Compute the Event-Related PAC (ERPAC) to have a first idea of where the\n       coupling occurs in time, especially if it start at a given time point\n       (:class:`tensorpac.EventRelatedPac`)\n    4. Realign time-frequency representations based on the starting time-point\n       found with the ERPAC and see if the gamma burst follow the rhythm\n       imposed by a phase. This step should also gives and idea of the\n       amplitude frequency range (:class:`tensorpac.utils.PeakLockedTF`)\n    5. Compute the comodulogram and statistics in order to test if the\n       hypothetic coupling can be considered as statistically different from\n       PAC that could be obtained by chance (:class:`tensorpac.Pac`)\n    6. Preferred-phase identification (:class:`tensorpac.utils.BinAmplitude`\n       and :class:`tensorpac.PreferredPhase`)\n\n"
      ]
    },
    {
      "cell_type": "code",
      "execution_count": null,
      "metadata": {
        "collapsed": false
      },
      "outputs": [],
      "source": [
        "import os\nimport urllib\n\nimport numpy as np\nfrom scipy.io import loadmat\n\nfrom tensorpac import Pac, EventRelatedPac, PreferredPhase\nfrom tensorpac.utils import PeakLockedTF, PSD, ITC, BinAmplitude\n\nimport matplotlib.pyplot as plt"
      ]
    },
    {
      "cell_type": "markdown",
      "metadata": {},
      "source": [
        "Download the data\n##############################################################################\n Lets first start by downloading the data. The file should be relatively\n small to download (1.18M). The file is going to be saved in the same folder\n where this script is launched. The data are downloaded only if the file is\n not present in the current folder\n\n"
      ]
    },
    {
      "cell_type": "code",
      "execution_count": null,
      "metadata": {
        "collapsed": false
      },
      "outputs": [],
      "source": [
        "filename = os.path.join(os.getcwd(), 'seeg_data_pac.npz')\nif not os.path.isfile(filename):\n    print('Downloading the data')\n    url = \"https://www.dropbox.com/s/dn51xh7nyyttf33/seeg_data_pac.npz?dl=1\"\n    urllib.request.urlretrieve(url, filename=filename)\n\narch = np.load(filename)\ndata = arch['data']       # data of a single sEEG contact\nsf = float(arch['sf'])    # sampling frequency\ntimes = arch['times']     # time vector\n\nprint(f\"DATA: (n_trials, n_times)={data.shape}; SAMPLING FREQUENCY={sf}Hz; \"\n      f\"TIME VECTOR: n_times={len(times)}\")"
      ]
    },
    {
      "cell_type": "markdown",
      "metadata": {},
      "source": [
        "Plot the raw data\n##############################################################################\n In this section, we simply plot the mean of the raw data across the 160\n trials\n\n"
      ]
    },
    {
      "cell_type": "code",
      "execution_count": null,
      "metadata": {
        "collapsed": false
      },
      "outputs": [],
      "source": [
        "# function for adding the sections rest / planning / execution to each figure\ndef add_motor_condition(y_text, fontsize=14, color='k', ax=None):\n    x_times = [-.5, 0.750, 2.250]\n    x_conditions = ['REST', 'MOTOR\\nPLANNING', 'MOTOR\\nEXECUTION']\n    if ax is None: ax = plt.gca()  # noqa\n    plt.sca(ax)\n    plt.axvline(0., lw=2, color=color)\n    plt.axvline(1.5, lw=2, color=color)\n    for x_t, t_t in zip(x_times, x_conditions):\n        plt.text(x_t, y_text, t_t, color=color, fontsize=fontsize, ha='center',\n                 va='center', fontweight='bold')"
      ]
    },
    {
      "cell_type": "code",
      "execution_count": null,
      "metadata": {
        "collapsed": false
      },
      "outputs": [],
      "source": [
        "plt.figure(figsize=(8, 6))\nplt.plot(times, data.mean(0))\nplt.autoscale(axis='x', tight=True)\nplt.title(\"Mean raw data across trials of a premotor sEEG site\", fontsize=18)\nplt.xlabel('Times (in seconds)', fontsize=15)\nplt.ylabel('V', fontsize=15)\nplt.ylim(-600, 800)\nadd_motor_condition(700.)\nplt.show()"
      ]
    },
    {
      "cell_type": "markdown",
      "metadata": {},
      "source": [
        "Compute and plot Inter Trial Coherence\n##############################################################################\n The Inter Trial Coherence (ITC) returns a factor that indicates how much\n the phases are consistent across trials. Here, we compute the ITC for\n multiple phase frequencies\n\n"
      ]
    },
    {
      "cell_type": "code",
      "execution_count": null,
      "metadata": {
        "collapsed": false
      },
      "outputs": [],
      "source": [
        "itc = ITC(data, sf, f_pha=(2, 20, 1, .2))"
      ]
    },
    {
      "cell_type": "code",
      "execution_count": null,
      "metadata": {
        "collapsed": false
      },
      "outputs": [],
      "source": [
        "itc.plot(times=times, cmap='plasma', fz_labels=15, fz_title=18)\nadd_motor_condition(18, color='white')\nplt.show()"
      ]
    },
    {
      "cell_type": "markdown",
      "metadata": {},
      "source": [
        "For this sEEG site, we can see that the very low frequency phase (~3Hz) are\nrealigned at the beginning of the execution period (~1500ms)\n\n"
      ]
    },
    {
      "cell_type": "markdown",
      "metadata": {},
      "source": [
        "Compute and plot the Power Spectrum Density\n##############################################################################\n Then, we compute the Power Spectrum Density (PSD) over all of the time-points\n and plot the mean PSD over the 160 trials\n\n"
      ]
    },
    {
      "cell_type": "code",
      "execution_count": null,
      "metadata": {
        "collapsed": false
      },
      "outputs": [],
      "source": [
        "psd = PSD(data, sf)"
      ]
    },
    {
      "cell_type": "code",
      "execution_count": null,
      "metadata": {
        "collapsed": false
      },
      "outputs": [],
      "source": [
        "plt.figure(figsize=(14, 6))\n# adding the mean PSD over trials\nplt.subplot(1, 2, 1)\nax = psd.plot(confidence=95, f_min=5, f_max=100, log=True, grid=True)\nplt.axvline(8, lw=2, color='red')\nplt.axvline(12, lw=2, color='red')\n# adding the single trial PSD\nplt.subplot(1, 2, 2)\npsd.plot_st_psd(cmap='Greys', f_min=2, f_max=100, vmax=.5e6, vmin=0., log=True,\n                grid=True)\nplt.axvline(8, lw=2, color='red')\nplt.axvline(12, lw=2, color='red')\nplt.tight_layout()\nplt.show()"
      ]
    },
    {
      "cell_type": "markdown",
      "metadata": {},
      "source": [
        "From the PSD above, we can see a clear peak around 10hz that could indicate\nan alpha <-> gamma coupling. This peak is essentially comprised between\n[8, 12]Hz. This range of frequencies is then gonig to be used to see if there\nis indeed an alpha <-> gamma coupling (Aru et al. 2015\n:cite:`aru2015untangling`)\n\n"
      ]
    },
    {
      "cell_type": "markdown",
      "metadata": {},
      "source": [
        "Compute and plot the Event-Related PAC\n##############################################################################\n To go one step further we can use the Event-Related PAC (ERPAC) in order to\n isolate the gamma range that is coupled with the alpha phase such as when, in\n time, this coupling occurs. Here, we compute the ERPAC using the\n Gaussian-Copula mutual information (Ince et al. 2017\n :cite:`ince2017statistical`), between the alpha [8, 12]Hz and several gamma\n amplitudes, at each time point.\n\n"
      ]
    },
    {
      "cell_type": "code",
      "execution_count": null,
      "metadata": {
        "collapsed": false
      },
      "outputs": [],
      "source": [
        "rp_obj = EventRelatedPac(f_pha=[8, 12], f_amp=(30, 160, 30, 2))\nerpac = rp_obj.filterfit(sf, data, method='gc', smooth=100)"
      ]
    },
    {
      "cell_type": "code",
      "execution_count": null,
      "metadata": {
        "collapsed": false
      },
      "outputs": [],
      "source": [
        "plt.figure(figsize=(8, 6))\nrp_obj.pacplot(erpac.squeeze(), times, rp_obj.yvec, xlabel='Time',\n               ylabel='Amplitude frequency (Hz)',\n               title='Event-Related PAC occurring for alpha phase',\n               fz_labels=15, fz_title=18)\nadd_motor_condition(135, color='white')\nplt.show()"
      ]
    },
    {
      "cell_type": "markdown",
      "metadata": {},
      "source": [
        "As you can see from the image above, there is an increase of alpha <-> gamma\n(~90Hz) coupling that is occurring especially during the planning phase (i.e\nbetween [0, 1500]ms)\n\n"
      ]
    },
    {
      "cell_type": "markdown",
      "metadata": {},
      "source": [
        "Align time-frequency map based on alpha phase peak\n##############################################################################\n to confirm the previous result showing a potential alpha <-> gamma coupling\n occuring during the planning phase, we can realign time-frequency\n representations (TFR) based on the alpha peak at the beginning of the\n planning phase (i.e at time code 0s)\n\n"
      ]
    },
    {
      "cell_type": "code",
      "execution_count": null,
      "metadata": {
        "collapsed": false
      },
      "outputs": [],
      "source": [
        "peak = PeakLockedTF(data, sf, 0., times=times, f_pha=[8, 12],\n                    f_amp=(5, 160, 30, 2))"
      ]
    },
    {
      "cell_type": "code",
      "execution_count": null,
      "metadata": {
        "collapsed": false
      },
      "outputs": [],
      "source": [
        "plt.figure(figsize=(8, 8))\nax_1, ax_2 = peak.plot(zscore=True, baseline=(250, 750), cmap='Spectral_r',\n                       vmin=-1, vmax=2)\nadd_motor_condition(135, color='black', ax=ax_1)\nplt.tight_layout()\nplt.show()"
      ]
    },
    {
      "cell_type": "markdown",
      "metadata": {},
      "source": [
        "From the TFR bellow we can see the relative to baseline gamma increase such\nas the beta desynchronization during the execution period, which is typical\nfor a motor site. Once realign on alpha phase, we can also see that gamma\nburst are regularly spaced, following the alpha rhythm, especially the gamma\nin [40, 120]Hz. this confirm that indeed, there is the presence of\nalpha <-> gamma PAC occurring during the planning phase\n\n"
      ]
    },
    {
      "cell_type": "markdown",
      "metadata": {},
      "source": [
        "Compute and compare PAC that is occurring during rest, planning and execution\n##############################################################################\n we now know that an alpha [8, 12]Hz <-> gamma (~90Hz) should occur\n specifically during the planning phase. An other way to inspect this result\n is to compute the PAC, across time-points, during the rest, motor planning\n and motor execution periods. Bellow, we first extract several phases and\n amplitudes, then we compute the Gaussian-Copula PAC inside the three motor\n periods\n\n"
      ]
    },
    {
      "cell_type": "code",
      "execution_count": null,
      "metadata": {
        "collapsed": false
      },
      "outputs": [],
      "source": [
        "p_obj = Pac(idpac=(6, 0, 0), f_pha=(6, 14, 4, .2), f_amp=(60, 120, 20, 2))\n# extract all of the phases and amplitudes\npha_p = p_obj.filter(sf, data, ftype='phase')\namp_p = p_obj.filter(sf, data, ftype='amplitude')\n# define time indices where rest, planning and execution are defined\ntime_rest = slice(0, 1000)\ntime_prep = slice(1000, 2500)\ntime_exec = slice(2500, 4000)\n# define phase / amplitude during rest / planning / execution\npha_rest, amp_rest = pha_p[..., time_rest], amp_p[..., time_rest]\npha_prep, amp_prep = pha_p[..., time_prep], amp_p[..., time_prep]\npha_exec, amp_exec = pha_p[..., time_exec], amp_p[..., time_exec]\n# compute PAC inside rest, planning, and execution\npac_rest = p_obj.fit(pha_rest, amp_rest).mean(-1)\npac_prep = p_obj.fit(pha_prep, amp_prep).mean(-1)\npac_exec = p_obj.fit(pha_exec, amp_exec).mean(-1)"
      ]
    },
    {
      "cell_type": "markdown",
      "metadata": {},
      "source": [
        "plot the comodulograms inside the rest, planning and execution period\n\n"
      ]
    },
    {
      "cell_type": "code",
      "execution_count": null,
      "metadata": {
        "collapsed": false
      },
      "outputs": [],
      "source": [
        "vmax = np.max([pac_rest.max(), pac_prep.max(), pac_exec.max()])\nkw = dict(vmax=vmax, vmin=.04, cmap='viridis')\nplt.figure(figsize=(14, 4))\nplt.subplot(131)\np_obj.comodulogram(pac_rest, title=\"PAC Rest [-1, 0]s\", **kw)\nplt.subplot(132)\np_obj.comodulogram(pac_prep, title=\"PAC Planning [0, 1.5]s\", **kw)\nplt.ylabel('')\nplt.subplot(133)\np_obj.comodulogram(pac_exec, title=\"PAC Execution [1.5, 3]s\", **kw)\nplt.ylabel('')\nplt.tight_layout()\nplt.show()"
      ]
    },
    {
      "cell_type": "markdown",
      "metadata": {},
      "source": [
        "From the three comodulograms above, you can see that, during the planning\nperiod there is an alpha [8, 12]Hz <-> gamma [80, 100]Hz that is not\npresent during the rest and execution periods\n\n"
      ]
    },
    {
      "cell_type": "markdown",
      "metadata": {},
      "source": [
        "Test if the alpha-gamma PAC is significant during motor planning\n##############################################################################\n finally, here, we are going to test if the peak PAC that is occurring during\n the planning period is significantly different for a surrogate distribution.\n To this end, and as recommended by Aru et al. 2015, :cite:`aru2015untangling`\n the surrogate distribution is obtained by cutting an amplitude at a random\n time-point and then swap the two blocks of amplitudes (Bahramisharif et al.\n 2013, :cite:`bahramisharif2013propagating`). This procedure is then repeated\n multiple times (e.g 200 or 1000 times) in order to obtained the distribution.\n Finally, the p-value is inferred by computing the proportion exceeded by the\n true coupling. In addition, the correction for multiple comparison is\n obtained using the FDR.\n\n"
      ]
    },
    {
      "cell_type": "code",
      "execution_count": null,
      "metadata": {
        "collapsed": false
      },
      "outputs": [],
      "source": [
        "# still using the Gaussian-Copula PAC but this time, we also select the method\n# for computing the permutations\np_obj.idpac = (6, 2, 0)\n# compute pac and 200 surrogates\npac_prep = p_obj.fit(pha_p[..., time_prep], amp_p[..., time_prep], n_perm=200,\n                     random_state=0)\n# get the p-values\nmcp = 'maxstat'\npvalues = p_obj.infer_pvalues(p=0.05, mcp=mcp)"
      ]
    },
    {
      "cell_type": "code",
      "execution_count": null,
      "metadata": {
        "collapsed": false
      },
      "outputs": [],
      "source": [
        "# sphinx_gallery_thumbnail_number = 7\nplt.figure(figsize=(8, 6))\ntitle = (r\"Significant alpha$\\Leftrightarrow$gamma coupling occurring during \"\n         f\"the motor planning phase\\n(p<0.05, {mcp}-corrected for multiple \"\n          \"comparisons)\")\n# plot the non-significant pac in gray\npac_prep_ns = pac_prep.mean(-1).copy()\npac_prep_ns[pvalues < .05] = np.nan\np_obj.comodulogram(pac_prep_ns, cmap='gray', vmin=np.nanmin(pac_prep_ns),\n                   vmax=np.nanmax(pac_prep_ns), colorbar=False)\n# plot the significant pac in color\npac_prep_s = pac_prep.mean(-1).copy()\npac_prep_s[pvalues >= .05] = np.nan\np_obj.comodulogram(pac_prep_s, cmap='Spectral_r', vmin=np.nanmin(pac_prep_s),\n                   vmax=np.nanmax(pac_prep_s), title=title)\nplt.gca().invert_yaxis()\nplt.show()"
      ]
    },
    {
      "cell_type": "markdown",
      "metadata": {},
      "source": [
        "Binning gamma amplitude according to alpha phase\n##############################################################################\n Another sanity check of whether the amplitude is indeed modulated by the\n alpha phase is to bin this amplitude according to phase slices. If there's no\n modulation, the bin amplitude should looks like a uniform distribution (i.e\n flat)\n\n"
      ]
    },
    {
      "cell_type": "code",
      "execution_count": null,
      "metadata": {
        "collapsed": false
      },
      "outputs": [],
      "source": [
        "# define phase and amplitude filtering properties\nkw_filt = dict(f_pha=[8, 12], f_amp=[75, 105], n_bins=20)\n# bin the rest, planning and execution periods. Note that ideally, the entire\n# trial should be filtered and then binning should be performed\nbin_rest = BinAmplitude(data[:, time_rest], sf, **kw_filt)\nbin_prep = BinAmplitude(data[:, time_prep], sf, **kw_filt)\nbin_exec = BinAmplitude(data[:, time_exec], sf, **kw_filt)"
      ]
    },
    {
      "cell_type": "markdown",
      "metadata": {},
      "source": [
        "now plot the binned amplitude inside the rest, planning and execution periods\n\n"
      ]
    },
    {
      "cell_type": "code",
      "execution_count": null,
      "metadata": {
        "collapsed": false
      },
      "outputs": [],
      "source": [
        "plt.figure(figsize=(16, 5))\n# bin rest period\nplt.subplot(1, 3, 1)\nbin_rest.plot(normalize=True, color='gray', unit='deg')\nplt.ylim(0.5, 1.2), plt.title(\"REST\", fontsize=18)\n# bin planning period\nplt.subplot(1, 3, 2)\nbin_prep.plot(normalize=True, unit='deg')\nplt.ylim(0.5, 1.2), plt.ylabel(''), plt.title(\"MOTOR PLANNING\", fontsize=18)\n# bin execution period\nplt.subplot(1, 3, 3)\nbin_exec.plot(normalize=True, color='red', unit='deg')\nplt.ylim(0.5, 1.2), plt.ylabel(''), plt.title(\"MOTOR EXECUTION\", fontsize=18)\nplt.tight_layout()\nplt.show()"
      ]
    },
    {
      "cell_type": "markdown",
      "metadata": {},
      "source": [
        "As you can see, the amplitude is modulated inside the resting and even more\ninside the planning phase. On the other hand, during the execution, the\ndistribution stays flat. Note also that the amplitude is maximum arround\n-150\u00b0 (or 210\u00b0) during the planning phase\n\n"
      ]
    },
    {
      "cell_type": "markdown",
      "metadata": {},
      "source": [
        "Identify the preferred phase\n##############################################################################\n The preferred phase is given by the phase bin at which the amplitude is\n maximum. Said differently, the gamma amplitude is binned according to the\n alpha phase. The preferred-phase is computed as the maximum of this\n histogram. To identify this preferred-phase, we propose here a polar plotting\n method to visualize retrieve the previous result using the histogram method\n\n"
      ]
    },
    {
      "cell_type": "code",
      "execution_count": null,
      "metadata": {
        "collapsed": false
      },
      "outputs": [],
      "source": [
        "# define the preferred phase object\npp_obj = PreferredPhase(f_pha=[8, 12])\n# only extract the alpha phase\npp_pha = pp_obj.filter(sf, data, ftype='phase')\npp_pha_rest = pp_pha[..., time_rest]\npp_pha_prep = pp_pha[..., time_prep]\npp_pha_exec = pp_pha[..., time_exec]\n# compute the preferred phase (reuse the amplitude computed above)\nampbin_rest, _, vecbin = pp_obj.fit(pp_pha_rest, amp_rest, n_bins=72)\nampbin_prep, _, vecbin = pp_obj.fit(pp_pha_prep, amp_prep, n_bins=72)\nampbin_exec, _, vecbin = pp_obj.fit(pp_pha_exec, amp_exec, n_bins=72)\n# mean binned amplitude across trials\nampbin_rest = np.squeeze(ampbin_rest).mean(-1).T\nampbin_prep = np.squeeze(ampbin_prep).mean(-1).T\nampbin_exec = np.squeeze(ampbin_exec).mean(-1).T"
      ]
    },
    {
      "cell_type": "markdown",
      "metadata": {},
      "source": [
        "circular plot of the preferred-phase : the radius of each circle is the\nchosen amplitude, the angle is the phase and the maximum of the disc values\n(i.e the brightest color) gives the preferred-phase\n\n"
      ]
    },
    {
      "cell_type": "code",
      "execution_count": null,
      "metadata": {
        "collapsed": false
      },
      "outputs": [],
      "source": [
        "plt.figure(figsize=(18, 5.2))\nkw_plt = dict(cmap='Spectral_r', interp=.1, cblabel='Amplitude bins',\n              vmin=0.012, vmax=0.016, colorbar=True, y=1.05, fz_title=18)\npp_obj.polar(ampbin_rest, vecbin, p_obj.yvec, subplot=131, title='REST',\n             **kw_plt)\npp_obj.polar(ampbin_prep, vecbin, p_obj.yvec, subplot=132,\n             title='MOTOR PLANNING', **kw_plt)\npp_obj.polar(ampbin_exec, vecbin, p_obj.yvec, subplot=133,\n             title='MOTOR EXECUTION', **kw_plt)\nplt.tight_layout()\nplt.show()"
      ]
    },
    {
      "cell_type": "markdown",
      "metadata": {},
      "source": [
        "As you can see, we retrieve that the preferred bin alpha phase is around\n-150\u00b0 or 210\u00b0 during the rest period but even more in the planning period.\nWhile during the execution, it seems that the amplitude is not modulated by\nthe alpha phase\n\n"
      ]
    }
  ],
  "metadata": {
    "kernelspec": {
      "display_name": "Python 3",
      "language": "python",
      "name": "python3"
    },
    "language_info": {
      "codemirror_mode": {
        "name": "ipython",
        "version": 3
      },
      "file_extension": ".py",
      "mimetype": "text/x-python",
      "name": "python",
      "nbconvert_exporter": "python",
      "pygments_lexer": "ipython3",
      "version": "3.6.12"
    }
  },
  "nbformat": 4,
  "nbformat_minor": 0
}