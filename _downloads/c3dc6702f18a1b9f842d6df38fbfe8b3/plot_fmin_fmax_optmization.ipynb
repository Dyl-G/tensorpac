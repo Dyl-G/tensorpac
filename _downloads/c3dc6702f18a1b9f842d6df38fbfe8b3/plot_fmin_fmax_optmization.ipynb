{
  "cells": [
    {
      "cell_type": "code",
      "execution_count": null,
      "metadata": {
        "collapsed": false
      },
      "outputs": [],
      "source": [
        "%matplotlib inline"
      ]
    },
    {
      "cell_type": "markdown",
      "metadata": {},
      "source": [
        "\n# Find the optimal bandwidth\n\n\nInstead of looking for phase and amplitude frequency pairs (as in a\ncomodulogram) this example illustrate how it is possible to find starting,\nending and therefore, bandwidth coupling.\n\n"
      ]
    },
    {
      "cell_type": "code",
      "execution_count": null,
      "metadata": {
        "collapsed": false
      },
      "outputs": [],
      "source": [
        "from tensorpac import Pac, pac_trivec, pac_signals_tort\n\nsf = 256.\ndata, time = pac_signals_tort(fpha=[5, 7], famp=[60, 80], noise=2, ntrials=5,\n                              npts=3000, sf=sf, dpha=10)\n\ntrif, tridx = pac_trivec(fstart=30, fend=140, fwidth=3)\n\np = Pac(idpac=(1, 0, 0), fpha=[5, 7], famp=trif)\npac = p.filterfit(sf, data, axis=1)\n\np.triplot(pac.mean(-1), trif, tridx, cmap='Spectral_r', rmaxis=True,\n          title=r'Optimal $[Fmin; Fmax]hz$ band for amplitude')\n\n# In this example, we generated a coupling with a phase between [5, 7]hz and an\n# amplitude between [60, 80]hz. To interpret the figure, the best starting\n# frequency is around 50hz and the best ending frequency is around 90hz. In\n# conclusion, the optimal amplitude bandwidth for this [5, 7]hz phase is\n# [50, 90]hz.\n\n# plt.savefig('triplot.png', dpi=600, bbox_inches='tight')\n\np.show()"
      ]
    }
  ],
  "metadata": {
    "kernelspec": {
      "display_name": "Python 3",
      "language": "python",
      "name": "python3"
    },
    "language_info": {
      "codemirror_mode": {
        "name": "ipython",
        "version": 3
      },
      "file_extension": ".py",
      "mimetype": "text/x-python",
      "name": "python",
      "nbconvert_exporter": "python",
      "pygments_lexer": "ipython3",
      "version": "3.7.1"
    }
  },
  "nbformat": 4,
  "nbformat_minor": 0
}