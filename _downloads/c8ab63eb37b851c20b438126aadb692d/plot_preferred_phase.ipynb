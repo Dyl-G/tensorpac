{
  "cells": [
    {
      "cell_type": "code",
      "execution_count": null,
      "metadata": {
        "collapsed": false
      },
      "outputs": [],
      "source": [
        "%matplotlib inline"
      ]
    },
    {
      "cell_type": "markdown",
      "metadata": {},
      "source": [
        "\n=============================\nFind the preferred phase (PP)\n=============================\n\nFirst, the amplitude is binned according to phase slices (360 degrees/nbins).\nThen, the PP is defined as the phase where the amplitude is maximum. We finally\nuse the polar representation to display the preferred phase at different\namplitudes.\n\n"
      ]
    },
    {
      "cell_type": "code",
      "execution_count": null,
      "metadata": {
        "collapsed": false
      },
      "outputs": [],
      "source": [
        "import numpy as np\nimport matplotlib.pyplot as plt\nfrom tensorpac import pac_signals_wavelet, Pac\n\nplt.style.use('seaborn-poster')\n\n# Generate 100 datasets with a 6<->100hz coupling :\nsf = 1024.\nntrials = 100\ndata, time = pac_signals_wavelet(fpha=6, famp=100, ntrials=ntrials, sf=sf,\n                                 noise=.7, npts=2000, pp=np.pi/2)\n\n\n# Define a Pac object. Here, we are not going to use the idpac variable :\np = Pac(fpha=[5, 7], famp=(60, 200, 10, 1))\n\n# Extract the phase and the amplitude :\npha = p.filter(sf, data, axis=1, ftype='phase')\namp = p.filter(sf, data, axis=1, ftype='amplitude')\n\n# Now, compute the PP :\nambin, pp, vecbin = p.pp(pha, amp, axis=2, nbins=72)\n\n# Reshape the PP to be (ntrials, namp) :\npp = np.squeeze(pp).T\n\n# Reshape the amplitude to be (nbins, namp, ntrials) and take the mean across\n# datasets :\nambin = np.squeeze(ambin).mean(-1)\n\nplt.figure(figsize=(20, 35))\n# Plot the prefered phase :\nplt.subplot(221)\nplt.pcolormesh(p.yvec, np.arange(100), np.rad2deg(pp), cmap='Spectral_r')\ncb = plt.colorbar()\nplt.clim(vmin=-180., vmax=180.)\nplt.axis('tight')\nplt.xlabel('Amplitude center frequency (Hz)')\nplt.ylabel('Ndatasets')\nplt.title(\"PP for each dataset and for several amplitudes.\\n100hz amplitudes\"\n          \" are phase locked to 90\u00b0 (<=> pi/2)\")\ncb.set_label('PP (in degrees)')\n\n# Then, we show  the histogram corresponding to an 100hz amplitude :\nidx100 = np.abs(p.yvec - 100.).argmin()\nplt.subplot(222)\nh = plt.hist(pp[:, idx100], color='#ab4642')\nplt.xlim((-np.pi, np.pi))\nplt.xlabel('PP')\nplt.title('PP across trials for the 100hz amplitude')\nplt.xticks([-np.pi, -np.pi / 2, 0, np.pi / 2, np.pi])\nplt.gca().set_xticklabels([r\"$-\\pi$\", r\"$-\\frac{\\pi}{2}$\", \"$0$\",\n                          r\"$\\frac{\\pi}{2}$\", r\"$\\pi$\"])\n\np.polar(ambin.T, vecbin, p.yvec, cmap='Spectral_r', interp=.1, subplot=212,\n        cblabel='Amplitude bins')\n\n# plt.savefig('pp.png', dpi=300, bbox_inches='tight')\n\np.show()"
      ]
    }
  ],
  "metadata": {
    "kernelspec": {
      "display_name": "Python 3",
      "language": "python",
      "name": "python3"
    },
    "language_info": {
      "codemirror_mode": {
        "name": "ipython",
        "version": 3
      },
      "file_extension": ".py",
      "mimetype": "text/x-python",
      "name": "python",
      "nbconvert_exporter": "python",
      "pygments_lexer": "ipython3",
      "version": "3.7.1"
    }
  },
  "nbformat": 4,
  "nbformat_minor": 0
}