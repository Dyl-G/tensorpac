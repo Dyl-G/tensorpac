{
  "cells": [
    {
      "cell_type": "code",
      "execution_count": null,
      "metadata": {
        "collapsed": false
      },
      "outputs": [],
      "source": [
        "%matplotlib inline"
      ]
    },
    {
      "cell_type": "markdown",
      "metadata": {},
      "source": [
        "\n# README example\n\n\nReproduced the figure in the README.\n\n"
      ]
    },
    {
      "cell_type": "code",
      "execution_count": null,
      "metadata": {
        "collapsed": false
      },
      "outputs": [],
      "source": [
        "from tensorpac.utils import pac_signals_tort\nfrom tensorpac import Pac\n\n# Dataset of signals artificially coupled between 10hz and 100hz :\nn = 20     # number of datasets\nsf = 512.  # sampling frequency\n\n# Create artificially coupled signals using Tort method :\ndata, time = pac_signals_tort(fpha=10, famp=100, noise=2, ntrials=n,\n                              dpha=10, damp=10, sf=sf)\n\n# Define a PAC object :\np = Pac(idpac=(4, 0, 0), fpha=(2, 20, 1, 1), famp=(60, 150, 5, 5),\n        dcomplex='wavelet', width=12)\n# Filter the data and extract PAC :\nxpac = p.filterfit(sf, data, axis=1)\n\n# Plot your Phase-Amplitude Coupling :\np.comodulogram(xpac.mean(-1), title='Contour plot with 5 regions',\n               cmap='Spectral_r', plotas='contour', ncontours=5)\n\np.show()"
      ]
    }
  ],
  "metadata": {
    "kernelspec": {
      "display_name": "Python 3",
      "language": "python",
      "name": "python3"
    },
    "language_info": {
      "codemirror_mode": {
        "name": "ipython",
        "version": 3
      },
      "file_extension": ".py",
      "mimetype": "text/x-python",
      "name": "python",
      "nbconvert_exporter": "python",
      "pygments_lexer": "ipython3",
      "version": "3.7.1"
    }
  },
  "nbformat": 4,
  "nbformat_minor": 0
}