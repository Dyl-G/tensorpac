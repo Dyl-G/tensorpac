{
  "cells": [
    {
      "cell_type": "code",
      "execution_count": null,
      "metadata": {
        "collapsed": false
      },
      "outputs": [],
      "source": [
        "%matplotlib inline"
      ]
    },
    {
      "cell_type": "markdown",
      "metadata": {},
      "source": [
        "\n# Compute p-values\n\n\nFor the visualization, we used a comodulogram.\n\n"
      ]
    },
    {
      "cell_type": "code",
      "execution_count": null,
      "metadata": {
        "collapsed": false
      },
      "outputs": [],
      "source": [
        "import numpy as np\nimport matplotlib.pyplot as plt\nfrom tensorpac import Pac, pac_signals_wavelet\nplt.style.use('seaborn-poster')\n\n# First, we generate a dataset of signals artificially coupled between 10hz\n# and 100hz. By default, this dataset is organized as (ntrials, npts) where\n# npts is the number of time points.\nn = 1      # number of datasets\nsf = 512.  # sampling frequency\ndata, time = pac_signals_wavelet(fpha=6, famp=90, noise=.8, ntrials=n,\n                                 npts=6000, sf=sf, rnd_state=3)\n\n\n# First, let's use the MVL, without any further correction by surrogates :\np = Pac(idpac=(1, 2, 1), fpha=(2, 15, 2, .1), famp=(60, 120, 10, 1),\n        dcomplex='wavelet', nblocks=10)\nxpac, pval = p.filterfit(sf, data, axis=1, nperm=200, get_pval=True)\nt1 = p.method + '\\n' + p.surro + '\\n' + p.norm\n\nxpac, pval = np.squeeze(xpac), np.squeeze(pval)\n\nplt.figure(figsize=(20, 7))\nplt.subplot(121)\np.comodulogram(xpac, title=t1, cmap='Spectral_r', vmin=0.,\n               bad='lightgray', pvalues=pval, p=0.01)\n\nplt.subplot(122)\np.comodulogram(xpac, title=t1, cmap='Spectral_r', vmin=0.,\n               pvalues=pval, levels=[0.01, 0.05])\n\np.show()"
      ]
    }
  ],
  "metadata": {
    "kernelspec": {
      "display_name": "Python 3",
      "language": "python",
      "name": "python3"
    },
    "language_info": {
      "codemirror_mode": {
        "name": "ipython",
        "version": 3
      },
      "file_extension": ".py",
      "mimetype": "text/x-python",
      "name": "python",
      "nbconvert_exporter": "python",
      "pygments_lexer": "ipython3",
      "version": "3.7.1"
    }
  },
  "nbformat": 4,
  "nbformat_minor": 0
}