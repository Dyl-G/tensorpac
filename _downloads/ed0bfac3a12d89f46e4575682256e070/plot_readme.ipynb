{
  "cells": [
    {
      "cell_type": "code",
      "execution_count": null,
      "metadata": {
        "collapsed": false
      },
      "outputs": [],
      "source": [
        "%matplotlib inline"
      ]
    },
    {
      "cell_type": "markdown",
      "metadata": {},
      "source": [
        "\n# README example\n\n\nReproduced the figure in the README.\n\n"
      ]
    },
    {
      "cell_type": "code",
      "execution_count": null,
      "metadata": {
        "collapsed": false
      },
      "outputs": [],
      "source": [
        "from tensorpac import Pac\nfrom tensorpac.signals import pac_signals_tort\n\n# Dataset of signals artificially coupled between 10hz and 100hz :\nn_epochs = 20   # number of trials\nn_times = 4000  # number of time points\nsf = 512.       # sampling frequency\n\n# Create artificially coupled signals using Tort method :\ndata, time = pac_signals_tort(f_pha=10, f_amp=100, noise=2, n_epochs=n_epochs,\n                              dpha=10, damp=10, sf=sf, n_times=n_times)\n\n# Define a Pac object\np = Pac(idpac=(6, 0, 0), f_pha='hres', f_amp='hres')\n# Filter the data and extract pac\nxpac = p.filterfit(sf, data)\n\n# plot your Phase-Amplitude Coupling :\np.comodulogram(xpac.mean(-1), cmap='Spectral_r', plotas='contour', ncontours=5,\n               title=r'10hz phase$\\Leftrightarrow$100Hz amplitude coupling',\n               fz_title=14, fz_labels=13)\n\np.show()"
      ]
    }
  ],
  "metadata": {
    "kernelspec": {
      "display_name": "Python 3",
      "language": "python",
      "name": "python3"
    },
    "language_info": {
      "codemirror_mode": {
        "name": "ipython",
        "version": 3
      },
      "file_extension": ".py",
      "mimetype": "text/x-python",
      "name": "python",
      "nbconvert_exporter": "python",
      "pygments_lexer": "ipython3",
      "version": "3.6.10"
    }
  },
  "nbformat": 4,
  "nbformat_minor": 0
}