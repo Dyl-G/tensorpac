{
  "cells": [
    {
      "cell_type": "code",
      "execution_count": null,
      "metadata": {
        "collapsed": false
      },
      "outputs": [],
      "source": [
        "%matplotlib inline"
      ]
    },
    {
      "cell_type": "markdown",
      "metadata": {},
      "source": [
        "\n# Generate a coupling between specific bands\n\n\nAlternativerly, you can create coupling not between centered frequences, but\nbetween frequency bands. In this example, we illustrate a [5, 7]<->[60, 80]hz\ncoupling.\n\n"
      ]
    },
    {
      "cell_type": "code",
      "execution_count": null,
      "metadata": {
        "collapsed": false
      },
      "outputs": [],
      "source": [
        "import numpy as np\nimport matplotlib.pyplot as plt\n\nfrom tensorpac.utils import pac_signals_tort\nfrom tensorpac import Pac\n\ndata, time = pac_signals_tort(fpha=[5, 7], famp=[60, 80], chi=0.5, ntrials=10,\n                              noise=3., npts=2000)\n\n\np = Pac(idpac=(3, 1, 1), fpha=(1, 15, 1, .2), famp=(40, 100, 5, 2),\n        dcomplex='wavelet', width=6)\npac = np.squeeze(p.filterfit(1024, data, axis=1, nperm=10))\n\nplt.figure(figsize=(12, 9))\np.comodulogram(pac.mean(-1), title=str(p), plotas='contour', ncontours=10,\n               cmap='plasma', vmin=0)\nplt.show()"
      ]
    }
  ],
  "metadata": {
    "kernelspec": {
      "display_name": "Python 3",
      "language": "python",
      "name": "python3"
    },
    "language_info": {
      "codemirror_mode": {
        "name": "ipython",
        "version": 3
      },
      "file_extension": ".py",
      "mimetype": "text/x-python",
      "name": "python",
      "nbconvert_exporter": "python",
      "pygments_lexer": "ipython3",
      "version": "3.7.1"
    }
  },
  "nbformat": 4,
  "nbformat_minor": 0
}