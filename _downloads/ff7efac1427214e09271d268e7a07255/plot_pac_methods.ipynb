{
  "cells": [
    {
      "cell_type": "code",
      "execution_count": null,
      "metadata": {
        "collapsed": false
      },
      "outputs": [],
      "source": [
        "%matplotlib inline"
      ]
    },
    {
      "cell_type": "markdown",
      "metadata": {},
      "source": [
        "\n# Comparison of the implemented PAC methods\n\n\nThis script offers a comparison between all of the implemented PAC methods, in\nparticular the methods that are computed across times-points.\n\n"
      ]
    },
    {
      "cell_type": "code",
      "execution_count": null,
      "metadata": {
        "collapsed": false
      },
      "outputs": [],
      "source": [
        "from tensorpac import Pac\nfrom tensorpac.signals import pac_signals_wavelet\n\nimport matplotlib.pyplot as plt"
      ]
    },
    {
      "cell_type": "markdown",
      "metadata": {},
      "source": [
        "Simulate artificial coupling\n##############################################################################\n first, we generate several trials that contains a coupling between a 10hz\n phase and a 100hz amplitude. By default, the returned dataset is organized as\n (n_epochs, n_times) where n_times is the number of time points and n_epochs\n is the number of trials\n\n"
      ]
    },
    {
      "cell_type": "code",
      "execution_count": null,
      "metadata": {
        "collapsed": false
      },
      "outputs": [],
      "source": [
        "f_pha = 10      # frequency phase for the coupling\nf_amp = 100     # frequency amplitude for the coupling\nn_epochs = 20   # number of trials\nn_times = 4000  # number of time points\nsf = 512.       # sampling frequency\ndata, time = pac_signals_wavelet(sf=sf, f_pha=f_pha, f_amp=f_amp, noise=.8,\n                              n_epochs=n_epochs, n_times=n_times)"
      ]
    },
    {
      "cell_type": "markdown",
      "metadata": {},
      "source": [
        "Extract phases and amplitudes\n##############################################################################\n Since we're going to compute PAC using several methods, we're first going\n to extract all of the phases and amplitudes only once\n\n"
      ]
    },
    {
      "cell_type": "code",
      "execution_count": null,
      "metadata": {
        "collapsed": false
      },
      "outputs": [],
      "source": [
        "# define a pac object and extract high-resolution phases and amplitudes using\n# Morlet's wavelets\np = Pac(f_pha='hres', f_amp='hres', dcomplex='wavelet')\n# etract all of the phases and amplitudes\nphases = p.filter(sf, data, ftype='phase', n_jobs=1)\namplitudes = p.filter(sf, data, ftype='amplitude', n_jobs=1)"
      ]
    },
    {
      "cell_type": "markdown",
      "metadata": {},
      "source": [
        "Compute, plot and compare PAC\n##############################################################################\n Once all of the phases and amplitudes extracted we can compute PAC by\n ietrating over the implemented methods.\n\n"
      ]
    },
    {
      "cell_type": "code",
      "execution_count": null,
      "metadata": {
        "collapsed": false
      },
      "outputs": [],
      "source": [
        "plt.figure(figsize=(14, 8))\nfor i, k in enumerate([1, 2, 3, 4, 5, 6]):\n    # switch method of PAC\n    p.idpac = (k, 0, 0)\n    # compute only the pac without filtering\n    xpac = p.fit(phases, amplitudes)\n    # plot\n    plt.subplot(2, 3, k)\n    title = p.method.replace(' (', f' ({k})\\n(')\n    p.comodulogram(xpac.mean(-1), title=title, cmap='viridis')\n    if k <= 3:\n        plt.xlabel('')\n\nplt.tight_layout()\nplt.show()"
      ]
    }
  ],
  "metadata": {
    "kernelspec": {
      "display_name": "Python 3",
      "language": "python",
      "name": "python3"
    },
    "language_info": {
      "codemirror_mode": {
        "name": "ipython",
        "version": 3
      },
      "file_extension": ".py",
      "mimetype": "text/x-python",
      "name": "python",
      "nbconvert_exporter": "python",
      "pygments_lexer": "ipython3",
      "version": "3.6.12"
    }
  },
  "nbformat": 4,
  "nbformat_minor": 0
}