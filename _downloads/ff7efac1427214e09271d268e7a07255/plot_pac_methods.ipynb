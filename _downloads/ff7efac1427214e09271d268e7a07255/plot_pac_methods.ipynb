{
  "cells": [
    {
      "cell_type": "code",
      "execution_count": null,
      "metadata": {
        "collapsed": false
      },
      "outputs": [],
      "source": [
        "%matplotlib inline"
      ]
    },
    {
      "cell_type": "markdown",
      "metadata": {},
      "source": [
        "\n# Compare PAC methods\n\n\nCompute PAC on multiple datasets and compare implemented methods.\n\n"
      ]
    },
    {
      "cell_type": "code",
      "execution_count": null,
      "metadata": {
        "collapsed": false
      },
      "outputs": [],
      "source": [
        "from __future__ import print_function\n\nfrom tensorpac import Pac\nfrom tensorpac.signals import pac_signals_tort\n\nimport matplotlib.pyplot as plt\nplt.style.use('seaborn-paper')\n\n# First, we generate a dataset of signals artificially coupled between 10hz\n# and 100hz. By default, this dataset is organized as (n_epochs, n_times) where\n# n_times is the number of time points.\nn_epochs = 10  # number of datasets\nsf = 512.  # sampling frequency\nn_times = 4000  # Number of time points\ndata, time = pac_signals_tort(sf=sf, f_pha=5, f_amp=100, noise=2.,\n                              n_epochs=n_epochs, n_times=n_times)\n\n# First, let's use the MVL, without any further correction by surrogates\n# for the definition of phase / amplitude frequency range, we use the automated\n# mid-resolution ('lres'=low-resolution; 'mres'=mid-resolution;\n# 'hres'=high-resolution)\np = Pac(f_pha='mres', f_amp='mres')\n\n# Now, we want to compare PAC methods, hence it's useless to systematically\n# filter the data. So we extract the phase and the amplitude only once :\nphases = p.filter(sf, data, ftype='phase', n_jobs=1)\namplitudes = p.filter(sf, data, ftype='amplitude', n_jobs=1)\n\nplt.figure(figsize=(18, 9))\nfor i, k in enumerate([1, 2, 3, 4, 5, 6]):\n    # Change the pac method :\n    p.idpac = (k, 0, 0)\n    print('-> PAC using ' + str(p))\n    # Compute only the PAC without filtering :\n    xpac = p.fit(phases, amplitudes)\n    # Plot :\n    plt.subplot(2, 3, k)\n    p.comodulogram(xpac.mean(-1), title=p.method, cmap='Spectral_r')\n    if k <= 3:\n        plt.xlabel('')\n\nplt.show()"
      ]
    }
  ],
  "metadata": {
    "kernelspec": {
      "display_name": "Python 3",
      "language": "python",
      "name": "python3"
    },
    "language_info": {
      "codemirror_mode": {
        "name": "ipython",
        "version": 3
      },
      "file_extension": ".py",
      "mimetype": "text/x-python",
      "name": "python",
      "nbconvert_exporter": "python",
      "pygments_lexer": "ipython3",
      "version": "3.6.10"
    }
  },
  "nbformat": 4,
  "nbformat_minor": 0
}