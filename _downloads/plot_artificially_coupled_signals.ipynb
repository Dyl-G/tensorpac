{
  "cells": [
    {
      "execution_count": null,
      "outputs": [],
      "cell_type": "code",
      "metadata": {
        "collapsed": false
      },
      "source": [
        "%matplotlib inline"
      ]
    },
    {
      "source": [
        "\n# Generate artificially coupled signals\n\n\nUse the pac_signals function to generate artificial PAC.\n\n"
      ],
      "cell_type": "markdown",
      "metadata": {}
    },
    {
      "execution_count": null,
      "outputs": [],
      "cell_type": "code",
      "metadata": {
        "collapsed": false
      },
      "source": [
        "import matplotlib.pyplot as plt\nfrom tensorpac.utils import pac_signals\n\n# Generate one signal containing PAC. By default, this signal present a\n# coupling between a 2hz phase and a 100hz amplitude (2 <-> 100) :\nsig, time = pac_signals(ndatasets=1, npts=1000)\n\n# Now, we generate a longer and weaker 4 <-> 60 coupling using the chi\n#  parameter. In addition, we increase the amount of noise :\nsig2, time2 = pac_signals(fpha=4, famp=60, ndatasets=1, chi=.9, noise=3,\n                          npts=3000)\n\n# Alternatively, you can generate multiple coupled signals :\nsig3, time3 = pac_signals(fpha=10, famp=150, ndatasets=3, chi=0.5, noise=2)\n\n# Finally, if you want to add variability across generated signals, use the\n# dpha and damp parameters :\nsig4, time4 = pac_signals(fpha=10, famp=50, ndatasets=3, dpha=30,\n                          damp=70, npts=3000)\n\n\ndef plot(time, sig, title):\n    \"\"\"Plotting function.\"\"\"\n    plt.plot(time, sig.T, lw=.5, color='black')\n    plt.title(title)\n    plt.xlabel('Time (s)')\n    plt.ylabel('Amplitude')\n\n\nfig = plt.figure(figsize=(13, 5))\nplt.subplot(1, 2, 1)\nplot(time, sig, 'Strong coupling between\\n2hz <-> 100hz')\n\nplt.subplot(1, 2, 2)\nplot(time2, sig2, 'Weak and noisy coupling between\\n4hz <-> 60hz')\n\n# plt.subplot(2, 2, 3)\n# plot(time3, sig3, '3 signals coupled between 10hz <-> 150hz')\n\n# plt.subplot(2, 2, 4)\n# plot(time4, sig4, '3 signals coupled, with variability between 10hz <-> 50hz')\n\nplt.show()"
      ]
    }
  ],
  "nbformat_minor": 0,
  "metadata": {
    "language_info": {
      "version": "3.5.1",
      "nbconvert_exporter": "python",
      "file_extension": ".py",
      "codemirror_mode": {
        "version": 3,
        "name": "ipython"
      },
      "mimetype": "text/x-python",
      "pygments_lexer": "ipython3",
      "name": "python"
    },
    "kernelspec": {
      "display_name": "Python 3",
      "name": "python3",
      "language": "python"
    }
  },
  "nbformat": 4
}