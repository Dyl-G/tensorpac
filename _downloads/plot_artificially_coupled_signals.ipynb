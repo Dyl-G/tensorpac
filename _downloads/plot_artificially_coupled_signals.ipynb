{
  "nbformat": 4,
  "cells": [
    {
      "source": [
        "%matplotlib inline"
      ],
      "outputs": [],
      "execution_count": null,
      "cell_type": "code",
      "metadata": {
        "collapsed": false
      }
    },
    {
      "source": [
        "\n# Generate artificially coupled signals\n\n\nUse the pac_signals_tort function to generate artificial PAC.\n\n"
      ],
      "cell_type": "markdown",
      "metadata": {}
    },
    {
      "source": [
        "import matplotlib.pyplot as plt\nfrom tensorpac.utils import pac_signals_tort\n\n# Generate one signal containing PAC. By default, this signal present a\n# coupling between a 2hz phase and a 100hz amplitude (2 <-> 100) :\nsig, time = pac_signals_tort(ntrials=1, npts=1000)\n\n# Now, we generate a longer and weaker 4 <-> 60 coupling using the chi\n#  parameter. In addition, we increase the amount of noise :\nsig2, time2 = pac_signals_tort(fpha=4, famp=60, ntrials=1, chi=.9, noise=3,\n                               npts=3000)\n\n# Alternatively, you can generate multiple coupled signals :\nsig3, time3 = pac_signals_tort(fpha=10, famp=150, ntrials=3, chi=0.5, noise=2)\n\n# Finally, if you want to add variability across generated signals, use the\n# dpha and damp parameters :\nsig4, time4 = pac_signals_tort(fpha=10, famp=50, ntrials=3, dpha=30,\n                               damp=70, npts=3000)\n\n\ndef plot(time, sig, title):\n    \"\"\"Plotting function.\"\"\"\n    plt.plot(time, sig.T, lw=.5, color='black')\n    plt.title(title)\n    plt.xlabel('Time (s)')\n    plt.ylabel('Amplitude')\n\n\nfig = plt.figure(figsize=(13, 5))\nplt.subplot(1, 2, 1)\nplot(time, sig, 'Strong coupling between\\n2hz <-> 100hz')\n\nplt.subplot(1, 2, 2)\nplot(time2, sig2, 'Weak and noisy coupling between\\n4hz <-> 60hz')\n\n# plt.subplot(2, 2, 3)\n# plot(time3, sig3, '3 signals coupled between 10hz <-> 150hz')\n\n# plt.subplot(2, 2, 4)\n# plot(time4, sig4, '3 signals coupled, with variability between 10hz <-> 50hz')\n\nplt.show()"
      ],
      "outputs": [],
      "execution_count": null,
      "cell_type": "code",
      "metadata": {
        "collapsed": false
      }
    }
  ],
  "nbformat_minor": 0,
  "metadata": {
    "language_info": {
      "codemirror_mode": {
        "version": 3,
        "name": "ipython"
      },
      "pygments_lexer": "ipython3",
      "name": "python",
      "nbconvert_exporter": "python",
      "file_extension": ".py",
      "mimetype": "text/x-python",
      "version": "3.5.1"
    },
    "kernelspec": {
      "display_name": "Python 3",
      "language": "python",
      "name": "python3"
    }
  }
}