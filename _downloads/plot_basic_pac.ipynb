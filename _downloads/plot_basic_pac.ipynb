{
  "nbformat": 4,
  "cells": [
    {
      "source": [
        "%matplotlib inline"
      ],
      "outputs": [],
      "execution_count": null,
      "cell_type": "code",
      "metadata": {
        "collapsed": false
      }
    },
    {
      "source": [
        "\n# Basic phase amplitude coupling\n\n\nFor the visualization, we used a comodulogram.\n\n"
      ],
      "cell_type": "markdown",
      "metadata": {}
    },
    {
      "source": [
        "import matplotlib.pyplot as plt\nfrom tensorpac.utils import pac_signals_tort\nfrom tensorpac import Pac\nplt.style.use('seaborn-poster')\n\n# First, we generate a dataset of signals artificially coupled between 10hz\n# and 100hz. By default, this dataset is organized as (ntrials, npts) where\n# npts is the number of time points.\nn = 10  # number of datasets\nnpts = 4000  # number of time points\ndata, time = pac_signals_tort(fpha=10, famp=100, noise=3., ntrials=n,\n                              npts=npts, dpha=10, damp=5, chi=.8)\n\n# First, let's use the MVL, without any further correction by surrogates :\np = Pac(idpac=(1, 0, 0), fpha=(2, 30, 1, .5), famp=(60, 150, 10, 1))\nxpac = p.filterfit(1024, data, axis=1)\nt1 = p.method + '\\n' + p.surro + '\\n' + p.norm\n\n# Now, we still use the MVL method, but in addition we shuffle amplitude time\n# series and then, subtract then divide by the mean of surrogates :\np.idpac = (1, 1, 1)\nxpac_corr = p.filterfit(1024, data, data, axis=1, nperm=10)\nt2 = p.method + '\\n' + p.surro + '\\n' + p.norm\n# Now, we plot the result by taking the mean across the dataset dimension.\nplt.figure(figsize=(20, 7))\nplt.subplot(1, 2, 1)\np.comodulogram(xpac.mean(-1), title=t1)\n\nplt.subplot(1, 2, 2)\np.comodulogram(xpac_corr.mean(-1), title=t2)\nplt.show()"
      ],
      "outputs": [],
      "execution_count": null,
      "cell_type": "code",
      "metadata": {
        "collapsed": false
      }
    }
  ],
  "nbformat_minor": 0,
  "metadata": {
    "language_info": {
      "codemirror_mode": {
        "version": 3,
        "name": "ipython"
      },
      "pygments_lexer": "ipython3",
      "name": "python",
      "nbconvert_exporter": "python",
      "file_extension": ".py",
      "mimetype": "text/x-python",
      "version": "3.5.1"
    },
    "kernelspec": {
      "display_name": "Python 3",
      "language": "python",
      "name": "python3"
    }
  }
}