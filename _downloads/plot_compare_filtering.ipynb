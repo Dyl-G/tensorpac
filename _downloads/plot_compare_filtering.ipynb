{
  "nbformat": 4,
  "cells": [
    {
      "source": [
        "%matplotlib inline"
      ],
      "outputs": [],
      "execution_count": null,
      "cell_type": "code",
      "metadata": {
        "collapsed": false
      }
    },
    {
      "source": [
        "\n# Filtering properties and effect\n\n\nTensorpac provides two ways for extracting phase and amplitude :\n\n* Using filtering followed by Hilbert transform.\n* Using wavelets.\n\n"
      ],
      "cell_type": "markdown",
      "metadata": {}
    },
    {
      "source": [
        "from __future__ import print_function\nimport matplotlib.pyplot as plt\nfrom tensorpac.utils import pac_signals_wavelet\nfrom tensorpac import Pac\nplt.style.use('seaborn-paper')\n\n# First, we generate a dataset of signals artificially coupled between 10hz\n# and 100hz. By default, this dataset is organized as (ntrials, npts) where\n# npts is the number of time points.\nn = 5  # number of datasets\nnpts = 2000  # number of time points\ndata, time = pac_signals_wavelet(fpha=10, famp=100, noise=1., ntrials=n,\n                                 npts=npts)\n\n# First, let's use the MVL, without any further correction by surrogates :\np = Pac(idpac=(1, 0, 0), fpha=(5, 14, 2, .3), famp=(80, 120, 2, 1))\n\nplt.figure(figsize=(18, 9))\n# Define several cycle options for the fir1 (eegfilt like) filter :\np.filt = 'fir1'\nprint('Filtering with fir1 filter')\nfor i, k in enumerate([(1, 3), (3, 6), (6, 12)]):\n    p.cycle = k\n    xpac = p.filterfit(1024, data, axis=1)\n    plt.subplot(2, 3, i + 1)\n    p.comodulogram(xpac.mean(-1), title='Fir1 - cycle ' + str(k))\n\n# Define several wavelet width :\np.dcomplex = 'wavelet'\nprint('Filtering with wavelets')\nfor i, k in enumerate([7, 12, 24]):\n    p.width = k\n    xpac = p.filterfit(1024, data, axis=1)\n    plt.subplot(2, 3, i + 4)\n    p.comodulogram(xpac.mean(-1), title='Wavelet - width ' + str(k))\n\nplt.show()"
      ],
      "outputs": [],
      "execution_count": null,
      "cell_type": "code",
      "metadata": {
        "collapsed": false
      }
    }
  ],
  "nbformat_minor": 0,
  "metadata": {
    "language_info": {
      "codemirror_mode": {
        "version": 3,
        "name": "ipython"
      },
      "pygments_lexer": "ipython3",
      "name": "python",
      "nbconvert_exporter": "python",
      "file_extension": ".py",
      "mimetype": "text/x-python",
      "version": "3.5.1"
    },
    "kernelspec": {
      "display_name": "Python 3",
      "language": "python",
      "name": "python3"
    }
  }
}