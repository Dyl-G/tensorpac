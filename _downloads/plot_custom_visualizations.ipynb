{
  "nbformat_minor": 0,
  "nbformat": 4,
  "metadata": {
    "language_info": {
      "name": "python",
      "nbconvert_exporter": "python",
      "mimetype": "text/x-python",
      "pygments_lexer": "ipython3",
      "file_extension": ".py",
      "version": "3.5.1",
      "codemirror_mode": {
        "name": "ipython",
        "version": 3
      }
    },
    "kernelspec": {
      "display_name": "Python 3",
      "name": "python3",
      "language": "python"
    }
  },
  "cells": [
    {
      "source": [
        "%matplotlib inline"
      ],
      "metadata": {
        "collapsed": false
      },
      "outputs": [],
      "cell_type": "code",
      "execution_count": null
    },
    {
      "source": [
        "\n# Compare visualization methods\n\n\nThis script present how to make a 2D comodulogram plot, with all of the\npossible parameters.\n\n"
      ],
      "metadata": {},
      "cell_type": "markdown"
    },
    {
      "source": [
        "import matplotlib.pyplot as plt\nfrom tensorpac.utils import pac_signals\nfrom tensorpac import Pac\nplt.style.use('seaborn-paper')\n\n# First, we generate a dataset of signals artificially coupled between 10hz\n# and 100hz. By default, this dataset is organized as (ndatasets, npts) where\n# npts is the number of time points.\nn = 10  # number of datasets\ndata, time = pac_signals(fpha=10, famp=100, noise=2., ndatasets=n, dpha=10,\n                         damp=10, npts=4000)\n\n# First, let's use the MVL, without any further correction by surrogates :\np = Pac(idpac=(5, 3, 3), fpha=(2, 30, 1, 1), famp=(60, 150, 5, 5),\n        dcomplex='wavelet', width=7)\nxpac, pval = p.filterfit(1024, data, data, axis=1, nperm=110)\n\n# Now, we plot the result by taking the mean across the dataset dimension.\nplt.figure(figsize=(20, 15))\nplt.subplot(3, 3, 1)\np.comodulogram(xpac.mean(-1), title='Default plotting')\n\nplt.subplot(3, 3, 2)\np.comodulogram(xpac.mean(-1), title='Peaking between [5, 20]', vmin=5,\n               vmax=20, cmap='gnuplot2_r')\n\nplt.subplot(3, 3, 3)\n# Ideally, the p-values should be corrected across trials because taking the\n# mean is not correct. This is only illustrative.\np.comodulogram(xpac.mean(-1), title='p>=.05 in black', cmap='Spectral_r',\n               pvalues=pval.mean(-1), bad=(.1, .1, .1), p=.05)\n\nplt.subplot(3, 3, 4)\np.comodulogram(xpac.mean(-1), title=\"PAC values < 2.5 to orange and \"\n                                    \"red for those > 15\",\n               cmap='Purples', vmin=2.5, under='darkorange', vmax=15,\n               over='#ab4642')\n\nplt.subplot(3, 3, 5)\np.comodulogram(xpac.mean(-1), title='2D interpolation', cmap='gnuplot',\n               interp=(.1, .1))\n\nplt.subplot(3, 3, 6)\np.comodulogram(xpac.mean(-1), title='Contour plot with 5 regions',\n               cmap='Spectral_r', plotas='contour', ncontours=5)\n\nplt.subplot(3, 3, 7)\np.comodulogram(xpac.mean(-1), title='Significiency levels',\n               cmap='Greys', pvalues=pval.mean(-1), levels=[0.01, 0.05],\n               levelcmap='Spectral_r', interp=(.1, .1))\n\nplt.subplot(3, 3, 8)\np.comodulogram(xpac.mean(-1), title='Remove and despine axis', cmap='Reds',\n               rmaxis=True, dpaxis=True)\n\nplt.subplot(3, 3, 9)\np.comodulogram(xpac.mean(-1), title='Taken together', rmaxis=True, dpaxis=True,\n               cmap='Spectral_r', plotas='contour', ncontours=5,\n               pvalues=pval.mean(-1), levels=[0.005, 0.01, 0.05],\n               levelcmap='viridis', vmin=5, under='gray', vmax=20,\n               over='olive')\n\nplt.show()"
      ],
      "metadata": {
        "collapsed": false
      },
      "outputs": [],
      "cell_type": "code",
      "execution_count": null
    }
  ]
}