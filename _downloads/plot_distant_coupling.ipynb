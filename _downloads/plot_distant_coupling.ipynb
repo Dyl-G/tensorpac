{
  "nbformat": 4,
  "cells": [
    {
      "metadata": {
        "collapsed": false
      },
      "cell_type": "code",
      "execution_count": null,
      "outputs": [],
      "source": [
        "%matplotlib inline"
      ]
    },
    {
      "cell_type": "markdown",
      "metadata": {},
      "source": [
        "\n# Compute distant PAC\n\n\nOne thing you may have noticed, both the fit() and filterfit() methods take as\ninputs data and again data. The reason is that the first data refer to the\nsignal to extract the phase (xpha) and the second, the amplitude (xamp).\nIf you want to extract local coupling (i.e. on a source/electrode) both xpha\nand xamp have to be set to data.\n\n"
      ]
    },
    {
      "metadata": {
        "collapsed": false
      },
      "cell_type": "code",
      "execution_count": null,
      "outputs": [],
      "source": [
        "import matplotlib.pyplot as plt\nfrom tensorpac.utils import pac_signals\nfrom tensorpac import Pac\n# plt.style.use('seaborn-poster')\n\n# First, we generate 2 datasets of signals artificially coupled between 10hz\n# and 100hz. By default, those datasets are organized as (ndatasets, npts)\n# where npts is the number of time points.\nn = 20  # number of datasets\nd1, time = pac_signals(fpha=10, famp=100, noise=1, ndatasets=n, npts=3000)\nd2, time = pac_signals(fpha=10, famp=100, noise=3, ndatasets=n, dpha=20,\n                       damp=5, chi=.3, npts=3000)\n\n# Define the model of PAC to use :\np = Pac(idpac=(4, 0, 0), fpha=(2, 30, 1, 1), famp=(60, 150, 5, 5),\n        dcomplex='wavelet', width=12)\n# Now, compute PAC by taking the phase of the first dataset and the amplitude\n# of the second\nxpac12, _ = p.filterfit(1024, d1, d2, axis=1)\n# Invert by taking the phase of the second dataset and the amplitude of the\n#  first one :\nxpac21, _ = p.filterfit(1024, d2, d1, axis=1)\n\n# Plot signals and PAC :\nplt.figure(figsize=(18, 12))\nplt.subplot(2, 2, 1)\nplt.plot(time, d1.mean(0), color='k')\nplt.xlabel('Time')\nplt.ylabel('Amplitude [uV]')\nplt.title('Mean across trials of the first dataset')\nplt.axis('tight')\n\nplt.subplot(2, 2, 2)\nplt.plot(time, d2.mean(0), color='k')\nplt.xlabel('Time')\nplt.ylabel('Amplitude [uV]')\nplt.title('Mean across trials of the second dataset')\nplt.axis('tight')\n\nplt.subplot(2, 2, 3)\np.comodulogram(xpac12.mean(-1), title=\"Phase of the first dataset and \"\n               \"amplitude of the second\", cmap='Reds')\n\nplt.subplot(2, 2, 4)\np.comodulogram(xpac21.mean(-1), title=\"Phase of the second dataset and \"\n               \"amplitde of the second\", cmap='Reds')\nplt.show()"
      ]
    }
  ],
  "metadata": {
    "language_info": {
      "name": "python",
      "nbconvert_exporter": "python",
      "codemirror_mode": {
        "name": "ipython",
        "version": 3
      },
      "file_extension": ".py",
      "pygments_lexer": "ipython3",
      "version": "3.5.1",
      "mimetype": "text/x-python"
    },
    "kernelspec": {
      "name": "python3",
      "display_name": "Python 3",
      "language": "python"
    }
  },
  "nbformat_minor": 0
}