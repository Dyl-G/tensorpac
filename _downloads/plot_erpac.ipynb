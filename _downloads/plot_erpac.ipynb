{
  "nbformat": 4,
  "cells": [
    {
      "source": [
        "%matplotlib inline"
      ],
      "outputs": [],
      "execution_count": null,
      "cell_type": "code",
      "metadata": {
        "collapsed": false
      }
    },
    {
      "source": [
        "\n=====================================\nCompute the ERPAC (Voytek et al 2013)\n=====================================\n\nEvent-Related Phase-Amplitude Coupling (ERPAC) do not measure PAC across time\ncycle but instead, across trials (just as proposed JP. Lachaux with the\nPLV/PLS). Measuring across trials enable to have a real-time estimation of PAC.\nWarning, depending on your data, even with tensor calculation the ERPAC is\nsignificantly slower. Don't worry, take a coffee.\n\nIn this example, we generate a signal that have a 10<->100hz coupling the first\n1000 points, then, the 700 following points are noise.\n\n"
      ],
      "cell_type": "markdown",
      "metadata": {}
    },
    {
      "source": [
        "import numpy as np\nfrom tensorpac import Pac, pac_signals_tort\n\n# Generate a 10<->100hz coupling :\nntrials = 300\nnpts = 1000\nsf = 1024.\nx1, tvec = pac_signals_tort(fpha=10, famp=100, ntrials=ntrials, noise=2,\n                            npts=npts, dpha=10, damp=10, sf=sf)\n# Generate noise and concatenate the coupling and the noise :\nx2 = np.random.rand(ntrials, 700)\nx = np.concatenate((x1, x2), axis=1)  # Shape : (ntrials, npts)\ntime = np.arange(x.shape[1]) / sf\n\n# Define a PAC object :\np = Pac(fpha=[9, 11], famp=(60, 140, 5, 1), dcomplex='wavelet', width=12)\n\n# Extract the phase and the amplitude :\npha = p.filter(sf, x, axis=1, ftype='phase')  # Shape (npha, ntrials, npts)\namp = p.filter(sf, x, axis=1, ftype='amplitude')  # Shape (namp, ntrials, npts)\n\n# Compute the ERPAC and use the traxis to specify that the trial axis is the\n# first one :\nerpac, pval = p.erpac(pha, amp, traxis=1)\n\n# Remove unused dimensions :\nerpac, pval = np.squeeze(erpac), np.squeeze(pval)\n\n# Plot without p-values :\np.pacplot(erpac, time, p.yvec, xlabel='Time (second)', cmap='Spectral_r',\n          ylabel='Amplitude frequency', title=str(p), cblabel='ERPAC',\n          vmin=0., rmaxis=True)\n\n# Plot with every non-significant values masked in gray :\n# p.pacplot(erpac, time, p.yvec, xlabel='Time (second)', cmap='Spectral_r',\n#           ylabel='Amplitude frequency', title='ERPAC example', vmin=0.,\n#           vmax=1., pvalues=pval, bad='lightgray', plotas='contour',\n#           cblabel='ERPAC')\n\n# Plot with significiendy levels :\n# p.pacplot(erpac, time, p.yvec, xlabel='Time (second)', cmap='Spectral_r',\n#           ylabel='Amplitude frequency', title='ERPAC example', vmin=0.,\n#           vmax=1., pvalues=pval, levels=[1e-20, 1e-10, 1e-2, 0.05],\n#           levelcmap='inferno', plotas='contour', cblabel='ERPAC')\n# p.savefig('erpac.png', dpi=300)\np.show()"
      ],
      "outputs": [],
      "execution_count": null,
      "cell_type": "code",
      "metadata": {
        "collapsed": false
      }
    }
  ],
  "nbformat_minor": 0,
  "metadata": {
    "language_info": {
      "codemirror_mode": {
        "version": 3,
        "name": "ipython"
      },
      "pygments_lexer": "ipython3",
      "name": "python",
      "nbconvert_exporter": "python",
      "file_extension": ".py",
      "mimetype": "text/x-python",
      "version": "3.5.1"
    },
    "kernelspec": {
      "display_name": "Python 3",
      "language": "python",
      "name": "python3"
    }
  }
}