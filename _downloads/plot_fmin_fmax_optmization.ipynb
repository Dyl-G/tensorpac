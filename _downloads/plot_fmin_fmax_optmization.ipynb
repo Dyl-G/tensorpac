{
  "nbformat": 4,
  "cells": [
    {
      "source": [
        "%matplotlib inline"
      ],
      "outputs": [],
      "execution_count": null,
      "cell_type": "code",
      "metadata": {
        "collapsed": false
      }
    },
    {
      "source": [
        "\n# Find the optimal bandwidth\n\n\nInstead of looking for phase and amplitude frequency pairs (as in a\ncomodulogram) this example illustrate how it is possible to find starting,\nending and therefore, bandwidth coupling.\n\n"
      ],
      "cell_type": "markdown",
      "metadata": {}
    },
    {
      "source": [
        "from tensorpac import Pac, pac_trivec, pac_signals_tort\n\nsf = 256.\ndata, time = pac_signals_tort(fpha=[5, 7], famp=[60, 80], noise=2, ntrials=5,\n                              npts=3000, sf=sf, dpha=10)\n\ntrif, tridx = pac_trivec(fstart=30, fend=140, fwidth=3)\n\np = Pac(idpac=(1, 0, 0), fpha=[5, 7], famp=trif)\npac = p.filterfit(sf, data, axis=1)\n\np.triplot(pac.mean(-1), trif, tridx, cmap='Spectral_r', rmaxis=True,\n          title=r'Optimal $[Fmin; Fmax]hz$ band for amplitude')\n\n# In this example, we generated a coupling with a phase between [5, 7]hz and an\n# amplitude between [60, 80]hz. To interpret the figure, the best starting\n# frequency is around 50hz and the best ending frequency is around 90hz. In\n# conclusion, the optimal amplitude bandwidth for this [5, 7]hz phase is\n# [50, 90]hz.\n\n# plt.savefig('triplot.png', dpi=600, bbox_inches='tight')\n\np.show()"
      ],
      "outputs": [],
      "execution_count": null,
      "cell_type": "code",
      "metadata": {
        "collapsed": false
      }
    }
  ],
  "nbformat_minor": 0,
  "metadata": {
    "language_info": {
      "codemirror_mode": {
        "version": 3,
        "name": "ipython"
      },
      "pygments_lexer": "ipython3",
      "name": "python",
      "nbconvert_exporter": "python",
      "file_extension": ".py",
      "mimetype": "text/x-python",
      "version": "3.5.1"
    },
    "kernelspec": {
      "display_name": "Python 3",
      "language": "python",
      "name": "python3"
    }
  }
}