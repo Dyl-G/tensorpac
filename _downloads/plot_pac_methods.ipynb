{
  "cells": [
    {
      "execution_count": null,
      "outputs": [],
      "cell_type": "code",
      "metadata": {
        "collapsed": false
      },
      "source": [
        "%matplotlib inline"
      ]
    },
    {
      "source": [
        "\n# PAC methods comparison\n\n\nCompute PAC on multiple datasets and compare implemented methods.\n\n"
      ],
      "cell_type": "markdown",
      "metadata": {}
    },
    {
      "execution_count": null,
      "outputs": [],
      "cell_type": "code",
      "metadata": {
        "collapsed": false
      },
      "source": [
        "from __future__ import print_function\nimport matplotlib.pyplot as plt\nfrom tensorpac.utils import pac_signals\nfrom tensorpac import Pac\nplt.style.use('seaborn-paper')\n\n# First, we generate a dataset of signals artificially coupled between 10hz\n# and 100hz. By default, this dataset is organized as (ndatasets, npts) where\n# npts is the number of time points.\nn = 10  # number of datasets\nsf = 256.  # sampling frequency\nnpts = 5000  # Number of time points\ndata, time = pac_signals(sf=sf, fpha=[4, 6], famp=[90, 110], noise=3,\n                         ndatasets=n, dpha=10, damp=10, npts=npts)\n\n# First, let's use the MVL, without any further correction by surrogates :\np = Pac(fpha=(1, 10, 1, .1), famp=(60, 140, 1, 1), dcomplex='wavelet',\n        width=6)\n\n# Now, we want to compare PAC methods, hence it's useless to systematically\n# filter the data. So we extract the phase and the amplitude only once :\nphases = p.filter(sf, data, axis=1, ftype='phase')\namplitudes = p.filter(sf, data, axis=1, ftype='amplitude')\n\nplt.figure(figsize=(18, 9))\nfor i, k in enumerate([1, 2, 3, 4, 5]):\n    # Change the pac method :\n    p.idpac = (k, 0, 0)\n    print('-> PAC using ' + str(p))\n    # Compute only the PAC without filtering :\n    xpac, _ = p.fit(phases, amplitudes, axis=2)\n    # Plot :\n    plt.subplot(2, 3, k)\n    p.comodulogram(xpac.mean(-1), title=p.method, cmap='Spectral_r')\n\nplt.show()"
      ]
    }
  ],
  "nbformat_minor": 0,
  "metadata": {
    "language_info": {
      "version": "3.5.1",
      "nbconvert_exporter": "python",
      "file_extension": ".py",
      "codemirror_mode": {
        "version": 3,
        "name": "ipython"
      },
      "mimetype": "text/x-python",
      "pygments_lexer": "ipython3",
      "name": "python"
    },
    "kernelspec": {
      "display_name": "Python 3",
      "name": "python3",
      "language": "python"
    }
  },
  "nbformat": 4
}